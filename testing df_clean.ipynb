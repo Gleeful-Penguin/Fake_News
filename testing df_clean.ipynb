{
 "cells": [
  {
   "cell_type": "code",
   "execution_count": 7,
   "metadata": {
    "scrolled": true
   },
   "outputs": [
    {
     "name": "stdout",
     "output_type": "stream",
     "text": [
      "/Users/kosta/github-tests/fake_news\n"
     ]
    }
   ],
   "source": [
    "cd .."
   ]
  },
  {
   "cell_type": "code",
   "execution_count": 8,
   "metadata": {},
   "outputs": [
    {
     "name": "stdout",
     "output_type": "stream",
     "text": [
      "/Users/kosta/github-tests/fake_news/Data\n"
     ]
    }
   ],
   "source": [
    "cd Data"
   ]
  },
  {
   "cell_type": "code",
   "execution_count": 12,
   "metadata": {},
   "outputs": [
    {
     "name": "stdout",
     "output_type": "stream",
     "text": [
      "/Users/kosta/github-tests/fake_news/Data/pickled_data\n"
     ]
    }
   ],
   "source": [
    "cd pickled_data"
   ]
  },
  {
   "cell_type": "code",
   "execution_count": 45,
   "metadata": {},
   "outputs": [],
   "source": [
    "import pandas as pd\n",
    "import seaborn as sns\n",
    "import matplotlib.pyplot as plt\n",
    "import numpy as np"
   ]
  },
  {
   "cell_type": "code",
   "execution_count": 71,
   "metadata": {},
   "outputs": [
    {
     "name": "stdout",
     "output_type": "stream",
     "text": [
      "data_dtm.pkl      df_clean.pkl      df_pre_steem.pkl  df_real.pkl\r\n",
      "df.pkl            df_fake.pkl       df_raw.pkl\r\n"
     ]
    }
   ],
   "source": [
    "ls"
   ]
  },
  {
   "cell_type": "code",
   "execution_count": 72,
   "metadata": {},
   "outputs": [],
   "source": [
    "df = pd.read_pickle(\"df_pre_steem.pkl\")"
   ]
  },
  {
   "cell_type": "code",
   "execution_count": 73,
   "metadata": {},
   "outputs": [
    {
     "data": {
      "text/plain": [
       "'mayor charlotte north carolina monday back ordinance expand anti discrimination gay people city also sparked controversial state law republican north legislature said statement late sunday would support law voided city ordinance charlotte made first move north republican governor blame charlotte state measure drawn rebuke major sports since march state law known house bill people use publicly correspond gender birth certificate local protecting lesbian gay bisexual people discrimination spokesman governor pat told local media last week would call special session consider repeal charlotte ordinance charlotte mayor jennifer democrat said city reconsider ordinance council meeting monday night appreciate state wanting find solution facing applaud governor state overturn state time without action city charlotte said statement repeal state law mounted last week national collegiate athletic association atlantic coast conference total championship sporting north carolina protest previously national basketball association star game charlotte bruce bank scrapped add state law senate leader phil berger monday whether seeking prolong debate political – regardless impact charlotte business community charlotte mayor standing firm business tourism hospitality find compromise end economic elon university poll monday found almost half likely state oppose survey also leading democratic challenger roy cooper percent percent law still vote incumbent'"
      ]
     },
     "execution_count": 73,
     "metadata": {},
     "output_type": "execute_result"
    }
   ],
   "source": [
    "df.iloc[8001,1]"
   ]
  },
  {
   "cell_type": "code",
   "execution_count": 74,
   "metadata": {},
   "outputs": [],
   "source": [
    "df[\"length_of_text\"] = [len(text.split()) for text in df[\"text\"]]"
   ]
  },
  {
   "cell_type": "code",
   "execution_count": 75,
   "metadata": {
    "scrolled": true
   },
   "outputs": [],
   "source": [
    "df = df.reset_index(drop=True)"
   ]
  },
  {
   "cell_type": "code",
   "execution_count": 76,
   "metadata": {},
   "outputs": [],
   "source": [
    "df = df.loc[df[\"length_of_text\"] > 50]"
   ]
  },
  {
   "cell_type": "code",
   "execution_count": 77,
   "metadata": {
    "scrolled": false
   },
   "outputs": [],
   "source": [
    "df = df.reset_index(drop = True)"
   ]
  },
  {
   "cell_type": "code",
   "execution_count": 78,
   "metadata": {},
   "outputs": [
    {
     "data": {
      "text/html": [
       "<div>\n",
       "<style scoped>\n",
       "    .dataframe tbody tr th:only-of-type {\n",
       "        vertical-align: middle;\n",
       "    }\n",
       "\n",
       "    .dataframe tbody tr th {\n",
       "        vertical-align: top;\n",
       "    }\n",
       "\n",
       "    .dataframe thead th {\n",
       "        text-align: right;\n",
       "    }\n",
       "</style>\n",
       "<table border=\"1\" class=\"dataframe\">\n",
       "  <thead>\n",
       "    <tr style=\"text-align: right;\">\n",
       "      <th></th>\n",
       "      <th>title</th>\n",
       "      <th>text</th>\n",
       "      <th>subject</th>\n",
       "      <th>date</th>\n",
       "      <th>status</th>\n",
       "      <th>length_of_text</th>\n",
       "    </tr>\n",
       "  </thead>\n",
       "  <tbody>\n",
       "    <tr>\n",
       "      <th>0</th>\n",
       "      <td>as u.s. budget fight looms, republicans flip t...</td>\n",
       "      <td>head conservative republican faction us congre...</td>\n",
       "      <td>politicsNews</td>\n",
       "      <td>2017-12-31</td>\n",
       "      <td>1</td>\n",
       "      <td>340</td>\n",
       "    </tr>\n",
       "    <tr>\n",
       "      <th>1</th>\n",
       "      <td>u.s. military to accept transgender recruits o...</td>\n",
       "      <td>people first time enlist us military starting ...</td>\n",
       "      <td>politicsNews</td>\n",
       "      <td>2017-12-29</td>\n",
       "      <td>1</td>\n",
       "      <td>263</td>\n",
       "    </tr>\n",
       "    <tr>\n",
       "      <th>2</th>\n",
       "      <td>senior u.s. republican senator: 'let mr. muell...</td>\n",
       "      <td>special counsel investigation links russia pre...</td>\n",
       "      <td>politicsNews</td>\n",
       "      <td>2017-12-31</td>\n",
       "      <td>1</td>\n",
       "      <td>209</td>\n",
       "    </tr>\n",
       "    <tr>\n",
       "      <th>3</th>\n",
       "      <td>fbi russia probe helped by australian diplomat...</td>\n",
       "      <td>trump campaign adviser george told australian ...</td>\n",
       "      <td>politicsNews</td>\n",
       "      <td>2017-12-30</td>\n",
       "      <td>1</td>\n",
       "      <td>164</td>\n",
       "    </tr>\n",
       "    <tr>\n",
       "      <th>4</th>\n",
       "      <td>trump wants postal service to charge 'much mor...</td>\n",
       "      <td>president donald trump us postal service frida...</td>\n",
       "      <td>politicsNews</td>\n",
       "      <td>2017-12-29</td>\n",
       "      <td>1</td>\n",
       "      <td>367</td>\n",
       "    </tr>\n",
       "    <tr>\n",
       "      <th>...</th>\n",
       "      <td>...</td>\n",
       "      <td>...</td>\n",
       "      <td>...</td>\n",
       "      <td>...</td>\n",
       "      <td>...</td>\n",
       "      <td>...</td>\n",
       "    </tr>\n",
       "    <tr>\n",
       "      <th>32434</th>\n",
       "      <td>the white house and the theatrics of ‘gun cont...</td>\n",
       "      <td>century wire world stage men merely one man ti...</td>\n",
       "      <td>US_News</td>\n",
       "      <td>2016-01-07</td>\n",
       "      <td>0</td>\n",
       "      <td>525</td>\n",
       "    </tr>\n",
       "    <tr>\n",
       "      <th>32435</th>\n",
       "      <td>activists or terrorists? how media controls an...</td>\n",
       "      <td>randy century majority media surrounding wildl...</td>\n",
       "      <td>US_News</td>\n",
       "      <td>2016-01-07</td>\n",
       "      <td>0</td>\n",
       "      <td>1757</td>\n",
       "    </tr>\n",
       "    <tr>\n",
       "      <th>32436</th>\n",
       "      <td>boiler room – no surrender, no retreat, heads ...</td>\n",
       "      <td>tune alternate current radio network another l...</td>\n",
       "      <td>US_News</td>\n",
       "      <td>2016-01-06</td>\n",
       "      <td>0</td>\n",
       "      <td>86</td>\n",
       "    </tr>\n",
       "    <tr>\n",
       "      <th>32437</th>\n",
       "      <td>federal showdown looms in oregon after blm abu...</td>\n",
       "      <td>century wire new front long battle america sma...</td>\n",
       "      <td>US_News</td>\n",
       "      <td>2016-01-04</td>\n",
       "      <td>0</td>\n",
       "      <td>1339</td>\n",
       "    </tr>\n",
       "    <tr>\n",
       "      <th>32438</th>\n",
       "      <td>a troubled king: chicago’s rahm emanuel desper...</td>\n",
       "      <td>century wire far away guess run president new ...</td>\n",
       "      <td>US_News</td>\n",
       "      <td>2016-01-02</td>\n",
       "      <td>0</td>\n",
       "      <td>420</td>\n",
       "    </tr>\n",
       "  </tbody>\n",
       "</table>\n",
       "<p>32439 rows × 6 columns</p>\n",
       "</div>"
      ],
      "text/plain": [
       "                                                   title  \\\n",
       "0      as u.s. budget fight looms, republicans flip t...   \n",
       "1      u.s. military to accept transgender recruits o...   \n",
       "2      senior u.s. republican senator: 'let mr. muell...   \n",
       "3      fbi russia probe helped by australian diplomat...   \n",
       "4      trump wants postal service to charge 'much mor...   \n",
       "...                                                  ...   \n",
       "32434  the white house and the theatrics of ‘gun cont...   \n",
       "32435  activists or terrorists? how media controls an...   \n",
       "32436  boiler room – no surrender, no retreat, heads ...   \n",
       "32437  federal showdown looms in oregon after blm abu...   \n",
       "32438  a troubled king: chicago’s rahm emanuel desper...   \n",
       "\n",
       "                                                    text       subject  \\\n",
       "0      head conservative republican faction us congre...  politicsNews   \n",
       "1      people first time enlist us military starting ...  politicsNews   \n",
       "2      special counsel investigation links russia pre...  politicsNews   \n",
       "3      trump campaign adviser george told australian ...  politicsNews   \n",
       "4      president donald trump us postal service frida...  politicsNews   \n",
       "...                                                  ...           ...   \n",
       "32434  century wire world stage men merely one man ti...       US_News   \n",
       "32435  randy century majority media surrounding wildl...       US_News   \n",
       "32436  tune alternate current radio network another l...       US_News   \n",
       "32437  century wire new front long battle america sma...       US_News   \n",
       "32438  century wire far away guess run president new ...       US_News   \n",
       "\n",
       "            date  status  length_of_text  \n",
       "0     2017-12-31       1             340  \n",
       "1     2017-12-29       1             263  \n",
       "2     2017-12-31       1             209  \n",
       "3     2017-12-30       1             164  \n",
       "4     2017-12-29       1             367  \n",
       "...          ...     ...             ...  \n",
       "32434 2016-01-07       0             525  \n",
       "32435 2016-01-07       0            1757  \n",
       "32436 2016-01-06       0              86  \n",
       "32437 2016-01-04       0            1339  \n",
       "32438 2016-01-02       0             420  \n",
       "\n",
       "[32439 rows x 6 columns]"
      ]
     },
     "execution_count": 78,
     "metadata": {},
     "output_type": "execute_result"
    }
   ],
   "source": [
    "df"
   ]
  },
  {
   "cell_type": "markdown",
   "metadata": {},
   "source": [
    "**Next steps:**\n",
    "\n",
    "    2.1 Length of articles\n",
    "    \n",
    "    2.2 Length & complexity of words\n",
    "    \n",
    "    2.3 Most frequent words\n",
    "    \n",
    "    2.4 Most frequent double words (bi-grams)\n",
    "    \n",
    "    2.5 Most frequent triple words (tri-grams)\n",
    "    \n",
    "    2.6 Statement Analysis with TextBlob (Santiment & Subjectivity)"
   ]
  },
  {
   "cell_type": "markdown",
   "metadata": {},
   "source": [
    "### 2.1 Length of articles (words and characters)"
   ]
  },
  {
   "cell_type": "code",
   "execution_count": 79,
   "metadata": {},
   "outputs": [],
   "source": [
    "df_real = df.loc[df[\"status\"] == 1]\n",
    "df_fake = df.loc[df[\"status\"] == 0]"
   ]
  },
  {
   "cell_type": "code",
   "execution_count": 80,
   "metadata": {},
   "outputs": [
    {
     "data": {
      "image/png": "[encoded data removed]",
      "text/plain": [
       "<Figure size 1152x576 with 2 Axes>"
      ]
     },
     "metadata": {
      "needs_background": "light"
     },
     "output_type": "display_data"
    }
   ],
   "source": [
    "fig, axs = plt.subplots(ncols=2, figsize = (16,8))\n",
    "x = pd.Series(df_real[\"length_of_text\"], name=\"length of text of real news\")\n",
    "y = pd.Series(df_fake[\"length_of_text\"], name=\"length of text of fake news\")\n",
    "ax1 = sns.distplot(x, color='green', ax=axs[0])\n",
    "ax2 = sns.distplot(y, color='red', ax=axs[1])"
   ]
  },
  {
   "cell_type": "code",
   "execution_count": 81,
   "metadata": {},
   "outputs": [
    {
     "data": {
      "text/plain": [
       "11.458788042185063"
      ]
     },
     "execution_count": 81,
     "metadata": {},
     "output_type": "execute_result"
    }
   ],
   "source": [
    "df_real[\"length_of_text\"].mean() - df_fake[\"length_of_text\"].mean()"
   ]
  },
  {
   "cell_type": "markdown",
   "metadata": {},
   "source": [
    "On average real news are a bit longer (11.5 words) than fake "
   ]
  },
  {
   "cell_type": "code",
   "execution_count": 82,
   "metadata": {},
   "outputs": [],
   "source": [
    "df_real_raw = pd.read_pickle(\"df_real.pkl\")"
   ]
  },
  {
   "cell_type": "code",
   "execution_count": 83,
   "metadata": {},
   "outputs": [],
   "source": [
    "df_fake_raw = pd.read_pickle(\"df_fake.pkl\")"
   ]
  },
  {
   "cell_type": "code",
   "execution_count": 84,
   "metadata": {},
   "outputs": [],
   "source": [
    "df_real_raw[\"length_of_text\"] = [len(text.split()) for text in df_real_raw[\"text\"]]"
   ]
  },
  {
   "cell_type": "code",
   "execution_count": 85,
   "metadata": {},
   "outputs": [],
   "source": [
    "df_fake_raw[\"length_of_text\"] = [len(text.split()) for text in df_fake_raw[\"text\"]]"
   ]
  },
  {
   "cell_type": "code",
   "execution_count": 86,
   "metadata": {},
   "outputs": [
    {
     "data": {
      "image/png": "[encoded data removed]",
      "text/plain": [
       "<Figure size 1152x576 with 2 Axes>"
      ]
     },
     "metadata": {
      "needs_background": "light"
     },
     "output_type": "display_data"
    }
   ],
   "source": [
    "fig, axs = plt.subplots(ncols=2, figsize = (16,8))\n",
    "x = pd.Series(df_real_raw[\"length_of_text\"], name=\"length of text of real raw news\")\n",
    "y = pd.Series(df_fake_raw[\"length_of_text\"], name=\"length of text of fake raw news\")\n",
    "ax1 = sns.distplot(x, color='green', ax=axs[0])\n",
    "ax2 = sns.distplot(y, color='red', ax=axs[1])"
   ]
  },
  {
   "cell_type": "code",
   "execution_count": 87,
   "metadata": {},
   "outputs": [
    {
     "data": {
      "text/plain": [
       "-42.107299700415695"
      ]
     },
     "execution_count": 87,
     "metadata": {},
     "output_type": "execute_result"
    }
   ],
   "source": [
    "df_real_raw[\"length_of_text\"].mean() - df_fake_raw[\"length_of_text\"].mean()"
   ]
  },
  {
   "cell_type": "markdown",
   "metadata": {},
   "source": [
    "Raw data shows that fake news contain 42 more words than real news on average, however, after removing non-english and stop words, real news have 11.5 more words than fake news. Meaning that on average, fake news contain more stop words than real ones."
   ]
  },
  {
   "cell_type": "markdown",
   "metadata": {},
   "source": [
    "Number of characters?"
   ]
  },
  {
   "cell_type": "code",
   "execution_count": 88,
   "metadata": {},
   "outputs": [
    {
     "data": {
      "text/plain": [
       "1431.4543977860667"
      ]
     },
     "execution_count": 88,
     "metadata": {},
     "output_type": "execute_result"
    }
   ],
   "source": [
    "df_real['text'].str.len().mean()"
   ]
  },
  {
   "cell_type": "code",
   "execution_count": 89,
   "metadata": {},
   "outputs": [
    {
     "data": {
      "text/plain": [
       "1310.626224947841"
      ]
     },
     "execution_count": 89,
     "metadata": {},
     "output_type": "execute_result"
    }
   ],
   "source": [
    "df_fake['text'].str.len().mean()"
   ]
  },
  {
   "cell_type": "markdown",
   "metadata": {},
   "source": [
    "Fake news have 120 characters less on average than real"
   ]
  },
  {
   "cell_type": "markdown",
   "metadata": {},
   "source": [
    "### 2.2 Length & complexity of words"
   ]
  },
  {
   "cell_type": "code",
   "execution_count": 48,
   "metadata": {},
   "outputs": [
    {
     "data": {
      "text/html": [
       "<div>\n",
       "<style scoped>\n",
       "    .dataframe tbody tr th:only-of-type {\n",
       "        vertical-align: middle;\n",
       "    }\n",
       "\n",
       "    .dataframe tbody tr th {\n",
       "        vertical-align: top;\n",
       "    }\n",
       "\n",
       "    .dataframe thead th {\n",
       "        text-align: right;\n",
       "    }\n",
       "</style>\n",
       "<table border=\"1\" class=\"dataframe\">\n",
       "  <thead>\n",
       "    <tr style=\"text-align: right;\">\n",
       "      <th></th>\n",
       "      <th>title</th>\n",
       "      <th>text</th>\n",
       "      <th>subject</th>\n",
       "      <th>date</th>\n",
       "      <th>status</th>\n",
       "      <th>length_of_text</th>\n",
       "    </tr>\n",
       "  </thead>\n",
       "  <tbody>\n",
       "    <tr>\n",
       "      <th>0</th>\n",
       "      <td>as u.s. budget fight looms, republicans flip t...</td>\n",
       "      <td>head conserv republican faction us congress mo...</td>\n",
       "      <td>politicsNews</td>\n",
       "      <td>2017-12-31</td>\n",
       "      <td>1</td>\n",
       "      <td>336</td>\n",
       "    </tr>\n",
       "    <tr>\n",
       "      <th>1</th>\n",
       "      <td>u.s. military to accept transgender recruits o...</td>\n",
       "      <td>peopl first time enlist us militari start mond...</td>\n",
       "      <td>politicsNews</td>\n",
       "      <td>2017-12-29</td>\n",
       "      <td>1</td>\n",
       "      <td>254</td>\n",
       "    </tr>\n",
       "    <tr>\n",
       "      <th>2</th>\n",
       "      <td>senior u.s. republican senator: 'let mr. muell...</td>\n",
       "      <td>special counsel investig link russia presid el...</td>\n",
       "      <td>politicsNews</td>\n",
       "      <td>2017-12-31</td>\n",
       "      <td>1</td>\n",
       "      <td>209</td>\n",
       "    </tr>\n",
       "    <tr>\n",
       "      <th>3</th>\n",
       "      <td>fbi russia probe helped by australian diplomat...</td>\n",
       "      <td>trump campaign advis georg told australian dip...</td>\n",
       "      <td>politicsNews</td>\n",
       "      <td>2017-12-30</td>\n",
       "      <td>1</td>\n",
       "      <td>159</td>\n",
       "    </tr>\n",
       "    <tr>\n",
       "      <th>4</th>\n",
       "      <td>trump wants postal service to charge 'much mor...</td>\n",
       "      <td>presid donald trump us postal servic friday ch...</td>\n",
       "      <td>politicsNews</td>\n",
       "      <td>2017-12-29</td>\n",
       "      <td>1</td>\n",
       "      <td>360</td>\n",
       "    </tr>\n",
       "    <tr>\n",
       "      <th>...</th>\n",
       "      <td>...</td>\n",
       "      <td>...</td>\n",
       "      <td>...</td>\n",
       "      <td>...</td>\n",
       "      <td>...</td>\n",
       "      <td>...</td>\n",
       "    </tr>\n",
       "    <tr>\n",
       "      <th>32286</th>\n",
       "      <td>the white house and the theatrics of ‘gun cont...</td>\n",
       "      <td>st centuri wire world stage men mere one man t...</td>\n",
       "      <td>US_News</td>\n",
       "      <td>2016-01-07</td>\n",
       "      <td>0</td>\n",
       "      <td>503</td>\n",
       "    </tr>\n",
       "    <tr>\n",
       "      <th>32287</th>\n",
       "      <td>activists or terrorists? how media controls an...</td>\n",
       "      <td>randi st centuri major media surround wildlif ...</td>\n",
       "      <td>US_News</td>\n",
       "      <td>2016-01-07</td>\n",
       "      <td>0</td>\n",
       "      <td>1708</td>\n",
       "    </tr>\n",
       "    <tr>\n",
       "      <th>32288</th>\n",
       "      <td>boiler room – no surrender, no retreat, heads ...</td>\n",
       "      <td>tune altern current radio network anoth live b...</td>\n",
       "      <td>US_News</td>\n",
       "      <td>2016-01-06</td>\n",
       "      <td>0</td>\n",
       "      <td>78</td>\n",
       "    </tr>\n",
       "    <tr>\n",
       "      <th>32289</th>\n",
       "      <td>federal showdown looms in oregon after blm abu...</td>\n",
       "      <td>st centuri wire new front long battl america s...</td>\n",
       "      <td>US_News</td>\n",
       "      <td>2016-01-04</td>\n",
       "      <td>0</td>\n",
       "      <td>1335</td>\n",
       "    </tr>\n",
       "    <tr>\n",
       "      <th>32290</th>\n",
       "      <td>a troubled king: chicago’s rahm emanuel desper...</td>\n",
       "      <td>st centuri wire far away guess run presid new ...</td>\n",
       "      <td>US_News</td>\n",
       "      <td>2016-01-02</td>\n",
       "      <td>0</td>\n",
       "      <td>404</td>\n",
       "    </tr>\n",
       "  </tbody>\n",
       "</table>\n",
       "<p>32291 rows × 6 columns</p>\n",
       "</div>"
      ],
      "text/plain": [
       "                                                   title  \\\n",
       "0      as u.s. budget fight looms, republicans flip t...   \n",
       "1      u.s. military to accept transgender recruits o...   \n",
       "2      senior u.s. republican senator: 'let mr. muell...   \n",
       "3      fbi russia probe helped by australian diplomat...   \n",
       "4      trump wants postal service to charge 'much mor...   \n",
       "...                                                  ...   \n",
       "32286  the white house and the theatrics of ‘gun cont...   \n",
       "32287  activists or terrorists? how media controls an...   \n",
       "32288  boiler room – no surrender, no retreat, heads ...   \n",
       "32289  federal showdown looms in oregon after blm abu...   \n",
       "32290  a troubled king: chicago’s rahm emanuel desper...   \n",
       "\n",
       "                                                    text       subject  \\\n",
       "0      head conserv republican faction us congress mo...  politicsNews   \n",
       "1      peopl first time enlist us militari start mond...  politicsNews   \n",
       "2      special counsel investig link russia presid el...  politicsNews   \n",
       "3      trump campaign advis georg told australian dip...  politicsNews   \n",
       "4      presid donald trump us postal servic friday ch...  politicsNews   \n",
       "...                                                  ...           ...   \n",
       "32286  st centuri wire world stage men mere one man t...       US_News   \n",
       "32287  randi st centuri major media surround wildlif ...       US_News   \n",
       "32288  tune altern current radio network anoth live b...       US_News   \n",
       "32289  st centuri wire new front long battl america s...       US_News   \n",
       "32290  st centuri wire far away guess run presid new ...       US_News   \n",
       "\n",
       "            date  status  length_of_text  \n",
       "0     2017-12-31       1             336  \n",
       "1     2017-12-29       1             254  \n",
       "2     2017-12-31       1             209  \n",
       "3     2017-12-30       1             159  \n",
       "4     2017-12-29       1             360  \n",
       "...          ...     ...             ...  \n",
       "32286 2016-01-07       0             503  \n",
       "32287 2016-01-07       0            1708  \n",
       "32288 2016-01-06       0              78  \n",
       "32289 2016-01-04       0            1335  \n",
       "32290 2016-01-02       0             404  \n",
       "\n",
       "[32291 rows x 6 columns]"
      ]
     },
     "execution_count": 48,
     "metadata": {},
     "output_type": "execute_result"
    }
   ],
   "source": [
    "df"
   ]
  },
  {
   "cell_type": "code",
   "execution_count": 152,
   "metadata": {},
   "outputs": [
    {
     "data": {
      "text/html": [
       "<div>\n",
       "<style scoped>\n",
       "    .dataframe tbody tr th:only-of-type {\n",
       "        vertical-align: middle;\n",
       "    }\n",
       "\n",
       "    .dataframe tbody tr th {\n",
       "        vertical-align: top;\n",
       "    }\n",
       "\n",
       "    .dataframe thead th {\n",
       "        text-align: right;\n",
       "    }\n",
       "</style>\n",
       "<table border=\"1\" class=\"dataframe\">\n",
       "  <thead>\n",
       "    <tr style=\"text-align: right;\">\n",
       "      <th></th>\n",
       "      <th>aa</th>\n",
       "      <th>aardvark</th>\n",
       "      <th>aaron</th>\n",
       "      <th>ab</th>\n",
       "      <th>aba</th>\n",
       "      <th>aback</th>\n",
       "      <th>abacus</th>\n",
       "      <th>abandon</th>\n",
       "      <th>abandoned</th>\n",
       "      <th>abandonment</th>\n",
       "      <th>...</th>\n",
       "      <th>zonation</th>\n",
       "      <th>zone</th>\n",
       "      <th>zoned</th>\n",
       "      <th>zoning</th>\n",
       "      <th>zoo</th>\n",
       "      <th>zoom</th>\n",
       "      <th>zorro</th>\n",
       "      <th>zucchini</th>\n",
       "      <th>zulu</th>\n",
       "      <th>zygote</th>\n",
       "    </tr>\n",
       "  </thead>\n",
       "  <tbody>\n",
       "    <tr>\n",
       "      <th>0</th>\n",
       "      <td>0</td>\n",
       "      <td>0</td>\n",
       "      <td>0</td>\n",
       "      <td>0</td>\n",
       "      <td>0</td>\n",
       "      <td>0</td>\n",
       "      <td>0</td>\n",
       "      <td>0</td>\n",
       "      <td>0</td>\n",
       "      <td>0</td>\n",
       "      <td>...</td>\n",
       "      <td>0</td>\n",
       "      <td>0</td>\n",
       "      <td>0</td>\n",
       "      <td>0</td>\n",
       "      <td>0</td>\n",
       "      <td>0</td>\n",
       "      <td>0</td>\n",
       "      <td>0</td>\n",
       "      <td>0</td>\n",
       "      <td>0</td>\n",
       "    </tr>\n",
       "    <tr>\n",
       "      <th>1</th>\n",
       "      <td>0</td>\n",
       "      <td>0</td>\n",
       "      <td>0</td>\n",
       "      <td>0</td>\n",
       "      <td>0</td>\n",
       "      <td>0</td>\n",
       "      <td>0</td>\n",
       "      <td>0</td>\n",
       "      <td>0</td>\n",
       "      <td>0</td>\n",
       "      <td>...</td>\n",
       "      <td>0</td>\n",
       "      <td>0</td>\n",
       "      <td>0</td>\n",
       "      <td>0</td>\n",
       "      <td>0</td>\n",
       "      <td>0</td>\n",
       "      <td>0</td>\n",
       "      <td>0</td>\n",
       "      <td>0</td>\n",
       "      <td>0</td>\n",
       "    </tr>\n",
       "    <tr>\n",
       "      <th>2</th>\n",
       "      <td>0</td>\n",
       "      <td>0</td>\n",
       "      <td>0</td>\n",
       "      <td>0</td>\n",
       "      <td>0</td>\n",
       "      <td>0</td>\n",
       "      <td>0</td>\n",
       "      <td>0</td>\n",
       "      <td>0</td>\n",
       "      <td>0</td>\n",
       "      <td>...</td>\n",
       "      <td>0</td>\n",
       "      <td>0</td>\n",
       "      <td>0</td>\n",
       "      <td>0</td>\n",
       "      <td>0</td>\n",
       "      <td>0</td>\n",
       "      <td>0</td>\n",
       "      <td>0</td>\n",
       "      <td>0</td>\n",
       "      <td>0</td>\n",
       "    </tr>\n",
       "    <tr>\n",
       "      <th>3</th>\n",
       "      <td>0</td>\n",
       "      <td>0</td>\n",
       "      <td>0</td>\n",
       "      <td>0</td>\n",
       "      <td>0</td>\n",
       "      <td>0</td>\n",
       "      <td>0</td>\n",
       "      <td>0</td>\n",
       "      <td>0</td>\n",
       "      <td>0</td>\n",
       "      <td>...</td>\n",
       "      <td>0</td>\n",
       "      <td>0</td>\n",
       "      <td>0</td>\n",
       "      <td>0</td>\n",
       "      <td>0</td>\n",
       "      <td>0</td>\n",
       "      <td>0</td>\n",
       "      <td>0</td>\n",
       "      <td>0</td>\n",
       "      <td>0</td>\n",
       "    </tr>\n",
       "    <tr>\n",
       "      <th>4</th>\n",
       "      <td>0</td>\n",
       "      <td>0</td>\n",
       "      <td>0</td>\n",
       "      <td>0</td>\n",
       "      <td>0</td>\n",
       "      <td>0</td>\n",
       "      <td>0</td>\n",
       "      <td>0</td>\n",
       "      <td>0</td>\n",
       "      <td>0</td>\n",
       "      <td>...</td>\n",
       "      <td>0</td>\n",
       "      <td>0</td>\n",
       "      <td>0</td>\n",
       "      <td>0</td>\n",
       "      <td>0</td>\n",
       "      <td>0</td>\n",
       "      <td>0</td>\n",
       "      <td>0</td>\n",
       "      <td>0</td>\n",
       "      <td>0</td>\n",
       "    </tr>\n",
       "    <tr>\n",
       "      <th>...</th>\n",
       "      <td>...</td>\n",
       "      <td>...</td>\n",
       "      <td>...</td>\n",
       "      <td>...</td>\n",
       "      <td>...</td>\n",
       "      <td>...</td>\n",
       "      <td>...</td>\n",
       "      <td>...</td>\n",
       "      <td>...</td>\n",
       "      <td>...</td>\n",
       "      <td>...</td>\n",
       "      <td>...</td>\n",
       "      <td>...</td>\n",
       "      <td>...</td>\n",
       "      <td>...</td>\n",
       "      <td>...</td>\n",
       "      <td>...</td>\n",
       "      <td>...</td>\n",
       "      <td>...</td>\n",
       "      <td>...</td>\n",
       "      <td>...</td>\n",
       "    </tr>\n",
       "    <tr>\n",
       "      <th>32434</th>\n",
       "      <td>0</td>\n",
       "      <td>0</td>\n",
       "      <td>0</td>\n",
       "      <td>0</td>\n",
       "      <td>0</td>\n",
       "      <td>0</td>\n",
       "      <td>0</td>\n",
       "      <td>0</td>\n",
       "      <td>0</td>\n",
       "      <td>0</td>\n",
       "      <td>...</td>\n",
       "      <td>0</td>\n",
       "      <td>0</td>\n",
       "      <td>0</td>\n",
       "      <td>0</td>\n",
       "      <td>0</td>\n",
       "      <td>0</td>\n",
       "      <td>0</td>\n",
       "      <td>0</td>\n",
       "      <td>0</td>\n",
       "      <td>0</td>\n",
       "    </tr>\n",
       "    <tr>\n",
       "      <th>32435</th>\n",
       "      <td>0</td>\n",
       "      <td>0</td>\n",
       "      <td>0</td>\n",
       "      <td>0</td>\n",
       "      <td>0</td>\n",
       "      <td>0</td>\n",
       "      <td>0</td>\n",
       "      <td>0</td>\n",
       "      <td>0</td>\n",
       "      <td>0</td>\n",
       "      <td>...</td>\n",
       "      <td>0</td>\n",
       "      <td>0</td>\n",
       "      <td>0</td>\n",
       "      <td>0</td>\n",
       "      <td>0</td>\n",
       "      <td>0</td>\n",
       "      <td>0</td>\n",
       "      <td>0</td>\n",
       "      <td>0</td>\n",
       "      <td>0</td>\n",
       "    </tr>\n",
       "    <tr>\n",
       "      <th>32436</th>\n",
       "      <td>0</td>\n",
       "      <td>0</td>\n",
       "      <td>0</td>\n",
       "      <td>0</td>\n",
       "      <td>0</td>\n",
       "      <td>0</td>\n",
       "      <td>0</td>\n",
       "      <td>0</td>\n",
       "      <td>0</td>\n",
       "      <td>0</td>\n",
       "      <td>...</td>\n",
       "      <td>0</td>\n",
       "      <td>1</td>\n",
       "      <td>0</td>\n",
       "      <td>0</td>\n",
       "      <td>0</td>\n",
       "      <td>0</td>\n",
       "      <td>0</td>\n",
       "      <td>0</td>\n",
       "      <td>0</td>\n",
       "      <td>0</td>\n",
       "    </tr>\n",
       "    <tr>\n",
       "      <th>32437</th>\n",
       "      <td>1</td>\n",
       "      <td>0</td>\n",
       "      <td>0</td>\n",
       "      <td>0</td>\n",
       "      <td>0</td>\n",
       "      <td>0</td>\n",
       "      <td>0</td>\n",
       "      <td>0</td>\n",
       "      <td>0</td>\n",
       "      <td>0</td>\n",
       "      <td>...</td>\n",
       "      <td>0</td>\n",
       "      <td>0</td>\n",
       "      <td>0</td>\n",
       "      <td>0</td>\n",
       "      <td>0</td>\n",
       "      <td>0</td>\n",
       "      <td>0</td>\n",
       "      <td>0</td>\n",
       "      <td>0</td>\n",
       "      <td>0</td>\n",
       "    </tr>\n",
       "    <tr>\n",
       "      <th>32438</th>\n",
       "      <td>0</td>\n",
       "      <td>0</td>\n",
       "      <td>0</td>\n",
       "      <td>0</td>\n",
       "      <td>0</td>\n",
       "      <td>0</td>\n",
       "      <td>0</td>\n",
       "      <td>0</td>\n",
       "      <td>0</td>\n",
       "      <td>0</td>\n",
       "      <td>...</td>\n",
       "      <td>0</td>\n",
       "      <td>0</td>\n",
       "      <td>0</td>\n",
       "      <td>0</td>\n",
       "      <td>0</td>\n",
       "      <td>0</td>\n",
       "      <td>0</td>\n",
       "      <td>0</td>\n",
       "      <td>0</td>\n",
       "      <td>0</td>\n",
       "    </tr>\n",
       "  </tbody>\n",
       "</table>\n",
       "<p>32439 rows × 29272 columns</p>\n",
       "</div>"
      ],
      "text/plain": [
       "       aa  aardvark  aaron  ab  aba  aback  abacus  abandon  abandoned  \\\n",
       "0       0         0      0   0    0      0       0        0          0   \n",
       "1       0         0      0   0    0      0       0        0          0   \n",
       "2       0         0      0   0    0      0       0        0          0   \n",
       "3       0         0      0   0    0      0       0        0          0   \n",
       "4       0         0      0   0    0      0       0        0          0   \n",
       "...    ..       ...    ...  ..  ...    ...     ...      ...        ...   \n",
       "32434   0         0      0   0    0      0       0        0          0   \n",
       "32435   0         0      0   0    0      0       0        0          0   \n",
       "32436   0         0      0   0    0      0       0        0          0   \n",
       "32437   1         0      0   0    0      0       0        0          0   \n",
       "32438   0         0      0   0    0      0       0        0          0   \n",
       "\n",
       "       abandonment  ...  zonation  zone  zoned  zoning  zoo  zoom  zorro  \\\n",
       "0                0  ...         0     0      0       0    0     0      0   \n",
       "1                0  ...         0     0      0       0    0     0      0   \n",
       "2                0  ...         0     0      0       0    0     0      0   \n",
       "3                0  ...         0     0      0       0    0     0      0   \n",
       "4                0  ...         0     0      0       0    0     0      0   \n",
       "...            ...  ...       ...   ...    ...     ...  ...   ...    ...   \n",
       "32434            0  ...         0     0      0       0    0     0      0   \n",
       "32435            0  ...         0     0      0       0    0     0      0   \n",
       "32436            0  ...         0     1      0       0    0     0      0   \n",
       "32437            0  ...         0     0      0       0    0     0      0   \n",
       "32438            0  ...         0     0      0       0    0     0      0   \n",
       "\n",
       "       zucchini  zulu  zygote  \n",
       "0             0     0       0  \n",
       "1             0     0       0  \n",
       "2             0     0       0  \n",
       "3             0     0       0  \n",
       "4             0     0       0  \n",
       "...         ...   ...     ...  \n",
       "32434         0     0       0  \n",
       "32435         0     0       0  \n",
       "32436         0     0       0  \n",
       "32437         0     0       0  \n",
       "32438         0     0       0  \n",
       "\n",
       "[32439 rows x 29272 columns]"
      ]
     },
     "execution_count": 152,
     "metadata": {},
     "output_type": "execute_result"
    }
   ],
   "source": [
    "from sklearn.feature_extraction.text import CountVectorizer\n",
    "cv = CountVectorizer()\n",
    "data_cv = cv.fit_transform(df.text)\n",
    "data_dtm = pd.DataFrame(data_cv.toarray(), columns=cv.get_feature_names())\n",
    "data_dtm.index = df.index\n",
    "data_dtm"
   ]
  },
  {
   "cell_type": "code",
   "execution_count": 56,
   "metadata": {},
   "outputs": [],
   "source": [
    "#data_dtm.to_pickle(\"data_dtm.pkl\")"
   ]
  },
  {
   "cell_type": "code",
   "execution_count": 91,
   "metadata": {
    "scrolled": true
   },
   "outputs": [
    {
     "data": {
      "text/plain": [
       "sentenc      122\n",
       "counti       119\n",
       "distribut    111\n",
       "cocain        98\n",
       "possess       91\n",
       "intent        80\n",
       "target        79\n",
       "group         76\n",
       "presid        75\n",
       "first         74\n",
       "dtype: int64"
      ]
     },
     "execution_count": 91,
     "metadata": {},
     "output_type": "execute_result"
    }
   ],
   "source": [
    "data_dtm.max().sort_values(ascending=False).head(10)"
   ]
  },
  {
   "cell_type": "code",
   "execution_count": 97,
   "metadata": {},
   "outputs": [],
   "source": [
    "df_pre_steem = pd.read_pickle(\"df_pre_steem.pkl\")"
   ]
  },
  {
   "cell_type": "code",
   "execution_count": 99,
   "metadata": {
    "scrolled": true
   },
   "outputs": [
    {
     "data": {
      "text/html": [
       "<div>\n",
       "<style scoped>\n",
       "    .dataframe tbody tr th:only-of-type {\n",
       "        vertical-align: middle;\n",
       "    }\n",
       "\n",
       "    .dataframe tbody tr th {\n",
       "        vertical-align: top;\n",
       "    }\n",
       "\n",
       "    .dataframe thead th {\n",
       "        text-align: right;\n",
       "    }\n",
       "</style>\n",
       "<table border=\"1\" class=\"dataframe\">\n",
       "  <thead>\n",
       "    <tr style=\"text-align: right;\">\n",
       "      <th></th>\n",
       "      <th>aa</th>\n",
       "      <th>aardvark</th>\n",
       "      <th>aaron</th>\n",
       "      <th>ab</th>\n",
       "      <th>aba</th>\n",
       "      <th>aback</th>\n",
       "      <th>abacus</th>\n",
       "      <th>abandon</th>\n",
       "      <th>abandoned</th>\n",
       "      <th>abandonment</th>\n",
       "      <th>...</th>\n",
       "      <th>zonation</th>\n",
       "      <th>zone</th>\n",
       "      <th>zoned</th>\n",
       "      <th>zoning</th>\n",
       "      <th>zoo</th>\n",
       "      <th>zoom</th>\n",
       "      <th>zorro</th>\n",
       "      <th>zucchini</th>\n",
       "      <th>zulu</th>\n",
       "      <th>zygote</th>\n",
       "    </tr>\n",
       "  </thead>\n",
       "  <tbody>\n",
       "    <tr>\n",
       "      <th>0</th>\n",
       "      <td>0</td>\n",
       "      <td>0</td>\n",
       "      <td>0</td>\n",
       "      <td>0</td>\n",
       "      <td>0</td>\n",
       "      <td>0</td>\n",
       "      <td>0</td>\n",
       "      <td>0</td>\n",
       "      <td>0</td>\n",
       "      <td>0</td>\n",
       "      <td>...</td>\n",
       "      <td>0</td>\n",
       "      <td>0</td>\n",
       "      <td>0</td>\n",
       "      <td>0</td>\n",
       "      <td>0</td>\n",
       "      <td>0</td>\n",
       "      <td>0</td>\n",
       "      <td>0</td>\n",
       "      <td>0</td>\n",
       "      <td>0</td>\n",
       "    </tr>\n",
       "    <tr>\n",
       "      <th>1</th>\n",
       "      <td>0</td>\n",
       "      <td>0</td>\n",
       "      <td>0</td>\n",
       "      <td>0</td>\n",
       "      <td>0</td>\n",
       "      <td>0</td>\n",
       "      <td>0</td>\n",
       "      <td>0</td>\n",
       "      <td>0</td>\n",
       "      <td>0</td>\n",
       "      <td>...</td>\n",
       "      <td>0</td>\n",
       "      <td>0</td>\n",
       "      <td>0</td>\n",
       "      <td>0</td>\n",
       "      <td>0</td>\n",
       "      <td>0</td>\n",
       "      <td>0</td>\n",
       "      <td>0</td>\n",
       "      <td>0</td>\n",
       "      <td>0</td>\n",
       "    </tr>\n",
       "    <tr>\n",
       "      <th>2</th>\n",
       "      <td>0</td>\n",
       "      <td>0</td>\n",
       "      <td>0</td>\n",
       "      <td>0</td>\n",
       "      <td>0</td>\n",
       "      <td>0</td>\n",
       "      <td>0</td>\n",
       "      <td>0</td>\n",
       "      <td>0</td>\n",
       "      <td>0</td>\n",
       "      <td>...</td>\n",
       "      <td>0</td>\n",
       "      <td>0</td>\n",
       "      <td>0</td>\n",
       "      <td>0</td>\n",
       "      <td>0</td>\n",
       "      <td>0</td>\n",
       "      <td>0</td>\n",
       "      <td>0</td>\n",
       "      <td>0</td>\n",
       "      <td>0</td>\n",
       "    </tr>\n",
       "    <tr>\n",
       "      <th>3</th>\n",
       "      <td>0</td>\n",
       "      <td>0</td>\n",
       "      <td>0</td>\n",
       "      <td>0</td>\n",
       "      <td>0</td>\n",
       "      <td>0</td>\n",
       "      <td>0</td>\n",
       "      <td>0</td>\n",
       "      <td>0</td>\n",
       "      <td>0</td>\n",
       "      <td>...</td>\n",
       "      <td>0</td>\n",
       "      <td>0</td>\n",
       "      <td>0</td>\n",
       "      <td>0</td>\n",
       "      <td>0</td>\n",
       "      <td>0</td>\n",
       "      <td>0</td>\n",
       "      <td>0</td>\n",
       "      <td>0</td>\n",
       "      <td>0</td>\n",
       "    </tr>\n",
       "    <tr>\n",
       "      <th>4</th>\n",
       "      <td>0</td>\n",
       "      <td>0</td>\n",
       "      <td>0</td>\n",
       "      <td>0</td>\n",
       "      <td>0</td>\n",
       "      <td>0</td>\n",
       "      <td>0</td>\n",
       "      <td>0</td>\n",
       "      <td>0</td>\n",
       "      <td>0</td>\n",
       "      <td>...</td>\n",
       "      <td>0</td>\n",
       "      <td>0</td>\n",
       "      <td>0</td>\n",
       "      <td>0</td>\n",
       "      <td>0</td>\n",
       "      <td>0</td>\n",
       "      <td>0</td>\n",
       "      <td>0</td>\n",
       "      <td>0</td>\n",
       "      <td>0</td>\n",
       "    </tr>\n",
       "    <tr>\n",
       "      <th>...</th>\n",
       "      <td>...</td>\n",
       "      <td>...</td>\n",
       "      <td>...</td>\n",
       "      <td>...</td>\n",
       "      <td>...</td>\n",
       "      <td>...</td>\n",
       "      <td>...</td>\n",
       "      <td>...</td>\n",
       "      <td>...</td>\n",
       "      <td>...</td>\n",
       "      <td>...</td>\n",
       "      <td>...</td>\n",
       "      <td>...</td>\n",
       "      <td>...</td>\n",
       "      <td>...</td>\n",
       "      <td>...</td>\n",
       "      <td>...</td>\n",
       "      <td>...</td>\n",
       "      <td>...</td>\n",
       "      <td>...</td>\n",
       "      <td>...</td>\n",
       "    </tr>\n",
       "    <tr>\n",
       "      <th>22698</th>\n",
       "      <td>0</td>\n",
       "      <td>0</td>\n",
       "      <td>0</td>\n",
       "      <td>0</td>\n",
       "      <td>0</td>\n",
       "      <td>0</td>\n",
       "      <td>0</td>\n",
       "      <td>0</td>\n",
       "      <td>0</td>\n",
       "      <td>0</td>\n",
       "      <td>...</td>\n",
       "      <td>0</td>\n",
       "      <td>0</td>\n",
       "      <td>0</td>\n",
       "      <td>0</td>\n",
       "      <td>0</td>\n",
       "      <td>0</td>\n",
       "      <td>0</td>\n",
       "      <td>0</td>\n",
       "      <td>0</td>\n",
       "      <td>0</td>\n",
       "    </tr>\n",
       "    <tr>\n",
       "      <th>22699</th>\n",
       "      <td>0</td>\n",
       "      <td>0</td>\n",
       "      <td>0</td>\n",
       "      <td>0</td>\n",
       "      <td>0</td>\n",
       "      <td>0</td>\n",
       "      <td>0</td>\n",
       "      <td>0</td>\n",
       "      <td>0</td>\n",
       "      <td>0</td>\n",
       "      <td>...</td>\n",
       "      <td>0</td>\n",
       "      <td>0</td>\n",
       "      <td>0</td>\n",
       "      <td>0</td>\n",
       "      <td>0</td>\n",
       "      <td>0</td>\n",
       "      <td>0</td>\n",
       "      <td>0</td>\n",
       "      <td>0</td>\n",
       "      <td>0</td>\n",
       "    </tr>\n",
       "    <tr>\n",
       "      <th>22700</th>\n",
       "      <td>0</td>\n",
       "      <td>0</td>\n",
       "      <td>0</td>\n",
       "      <td>0</td>\n",
       "      <td>0</td>\n",
       "      <td>0</td>\n",
       "      <td>0</td>\n",
       "      <td>0</td>\n",
       "      <td>0</td>\n",
       "      <td>0</td>\n",
       "      <td>...</td>\n",
       "      <td>0</td>\n",
       "      <td>1</td>\n",
       "      <td>0</td>\n",
       "      <td>0</td>\n",
       "      <td>0</td>\n",
       "      <td>0</td>\n",
       "      <td>0</td>\n",
       "      <td>0</td>\n",
       "      <td>0</td>\n",
       "      <td>0</td>\n",
       "    </tr>\n",
       "    <tr>\n",
       "      <th>22701</th>\n",
       "      <td>1</td>\n",
       "      <td>0</td>\n",
       "      <td>0</td>\n",
       "      <td>0</td>\n",
       "      <td>0</td>\n",
       "      <td>0</td>\n",
       "      <td>0</td>\n",
       "      <td>0</td>\n",
       "      <td>0</td>\n",
       "      <td>0</td>\n",
       "      <td>...</td>\n",
       "      <td>0</td>\n",
       "      <td>0</td>\n",
       "      <td>0</td>\n",
       "      <td>0</td>\n",
       "      <td>0</td>\n",
       "      <td>0</td>\n",
       "      <td>0</td>\n",
       "      <td>0</td>\n",
       "      <td>0</td>\n",
       "      <td>0</td>\n",
       "    </tr>\n",
       "    <tr>\n",
       "      <th>22702</th>\n",
       "      <td>0</td>\n",
       "      <td>0</td>\n",
       "      <td>0</td>\n",
       "      <td>0</td>\n",
       "      <td>0</td>\n",
       "      <td>0</td>\n",
       "      <td>0</td>\n",
       "      <td>0</td>\n",
       "      <td>0</td>\n",
       "      <td>0</td>\n",
       "      <td>...</td>\n",
       "      <td>0</td>\n",
       "      <td>0</td>\n",
       "      <td>0</td>\n",
       "      <td>0</td>\n",
       "      <td>0</td>\n",
       "      <td>0</td>\n",
       "      <td>0</td>\n",
       "      <td>0</td>\n",
       "      <td>0</td>\n",
       "      <td>0</td>\n",
       "    </tr>\n",
       "  </tbody>\n",
       "</table>\n",
       "<p>38263 rows × 29338 columns</p>\n",
       "</div>"
      ],
      "text/plain": [
       "       aa  aardvark  aaron  ab  aba  aback  abacus  abandon  abandoned  \\\n",
       "0       0         0      0   0    0      0       0        0          0   \n",
       "1       0         0      0   0    0      0       0        0          0   \n",
       "2       0         0      0   0    0      0       0        0          0   \n",
       "3       0         0      0   0    0      0       0        0          0   \n",
       "4       0         0      0   0    0      0       0        0          0   \n",
       "...    ..       ...    ...  ..  ...    ...     ...      ...        ...   \n",
       "22698   0         0      0   0    0      0       0        0          0   \n",
       "22699   0         0      0   0    0      0       0        0          0   \n",
       "22700   0         0      0   0    0      0       0        0          0   \n",
       "22701   1         0      0   0    0      0       0        0          0   \n",
       "22702   0         0      0   0    0      0       0        0          0   \n",
       "\n",
       "       abandonment  ...  zonation  zone  zoned  zoning  zoo  zoom  zorro  \\\n",
       "0                0  ...         0     0      0       0    0     0      0   \n",
       "1                0  ...         0     0      0       0    0     0      0   \n",
       "2                0  ...         0     0      0       0    0     0      0   \n",
       "3                0  ...         0     0      0       0    0     0      0   \n",
       "4                0  ...         0     0      0       0    0     0      0   \n",
       "...            ...  ...       ...   ...    ...     ...  ...   ...    ...   \n",
       "22698            0  ...         0     0      0       0    0     0      0   \n",
       "22699            0  ...         0     0      0       0    0     0      0   \n",
       "22700            0  ...         0     1      0       0    0     0      0   \n",
       "22701            0  ...         0     0      0       0    0     0      0   \n",
       "22702            0  ...         0     0      0       0    0     0      0   \n",
       "\n",
       "       zucchini  zulu  zygote  \n",
       "0             0     0       0  \n",
       "1             0     0       0  \n",
       "2             0     0       0  \n",
       "3             0     0       0  \n",
       "4             0     0       0  \n",
       "...         ...   ...     ...  \n",
       "22698         0     0       0  \n",
       "22699         0     0       0  \n",
       "22700         0     0       0  \n",
       "22701         0     0       0  \n",
       "22702         0     0       0  \n",
       "\n",
       "[38263 rows x 29338 columns]"
      ]
     },
     "execution_count": 99,
     "metadata": {},
     "output_type": "execute_result"
    }
   ],
   "source": [
    "data_cv = cv.fit_transform(df_pre_steem.text)\n",
    "df_pre_steem_dtm = pd.DataFrame(data_cv.toarray(), columns=cv.get_feature_names())\n",
    "df_pre_steem_dtm.index = df_pre_steem.index\n",
    "df_pre_steem_dtm"
   ]
  },
  {
   "cell_type": "code",
   "execution_count": 110,
   "metadata": {},
   "outputs": [],
   "source": [
    "list_of_words = list(df_pre_steem_dtm.columns.values)"
   ]
  },
  {
   "cell_type": "code",
   "execution_count": 114,
   "metadata": {},
   "outputs": [],
   "source": [
    "length_of_words = [len(i) for i in list_of_words]"
   ]
  },
  {
   "cell_type": "code",
   "execution_count": 118,
   "metadata": {
    "scrolled": true
   },
   "outputs": [
    {
     "data": {
      "text/plain": [
       "7.589713000204513"
      ]
     },
     "execution_count": 118,
     "metadata": {},
     "output_type": "execute_result"
    }
   ],
   "source": [
    "sum(length_of_words) / len(length_of_words)"
   ]
  },
  {
   "cell_type": "code",
   "execution_count": 123,
   "metadata": {
    "scrolled": true
   },
   "outputs": [],
   "source": [
    "data_cv = cv.fit_transform(df_real.text)\n",
    "df_real_dtm = pd.DataFrame(data_cv.toarray(), columns=cv.get_feature_names())\n",
    "df_real_dtm.index = df_real.index"
   ]
  },
  {
   "cell_type": "code",
   "execution_count": 126,
   "metadata": {},
   "outputs": [
    {
     "data": {
      "text/plain": [
       "7.476297372243496"
      ]
     },
     "execution_count": 126,
     "metadata": {},
     "output_type": "execute_result"
    }
   ],
   "source": [
    "list_of_words_real = list(df_real_dtm.columns.values)\n",
    "length_of_words_real = [len(i) for i in list_of_words_real]\n",
    "sum(length_of_words_real) / len(length_of_words_real)"
   ]
  },
  {
   "cell_type": "code",
   "execution_count": 127,
   "metadata": {},
   "outputs": [],
   "source": [
    "data_cv = cv.fit_transform(df_fake.text)\n",
    "df_fake_dtm = pd.DataFrame(data_cv.toarray(), columns=cv.get_feature_names())\n",
    "df_fake_dtm.index = df_fake.index"
   ]
  },
  {
   "cell_type": "code",
   "execution_count": 132,
   "metadata": {},
   "outputs": [
    {
     "data": {
      "text/plain": [
       "7.570877794220734"
      ]
     },
     "execution_count": 132,
     "metadata": {},
     "output_type": "execute_result"
    }
   ],
   "source": [
    "list_of_words_fake = list(df_fake_dtm.columns.values)\n",
    "length_of_words_fake = [len(i) for i in list_of_words_fake]\n",
    "sum(length_of_words_fake) / len(length_of_words_fake)"
   ]
  },
  {
   "cell_type": "markdown",
   "metadata": {},
   "source": [
    "Length of words is almost the same!"
   ]
  },
  {
   "cell_type": "markdown",
   "metadata": {},
   "source": [
    "### 2.3 Most frequent words"
   ]
  },
  {
   "cell_type": "code",
   "execution_count": 133,
   "metadata": {},
   "outputs": [
    {
     "data": {
      "text/plain": [
       "sentence      122\n",
       "county        119\n",
       "distribute     98\n",
       "cocaine        98\n",
       "intent         80\n",
       "target         78\n",
       "group          76\n",
       "president      74\n",
       "first          74\n",
       "source         72\n",
       "dtype: int64"
      ]
     },
     "execution_count": 133,
     "metadata": {},
     "output_type": "execute_result"
    }
   ],
   "source": [
    "df_pre_steem_dtm.max().sort_values(ascending=False).head(10)"
   ]
  },
  {
   "cell_type": "markdown",
   "metadata": {},
   "source": [
    "The most common words are \"sentence\" (122), \"county\" (119), \"distribute\" (111), \"cocaine\" (98), and possess (91)"
   ]
  },
  {
   "cell_type": "code",
   "execution_count": 134,
   "metadata": {
    "scrolled": true
   },
   "outputs": [
    {
     "data": {
      "text/plain": [
       "president    53\n",
       "kim          51\n",
       "would        48\n",
       "tax          44\n",
       "trump        41\n",
       "police       38\n",
       "north        37\n",
       "percent      37\n",
       "cuba         37\n",
       "coal         36\n",
       "dtype: int64"
      ]
     },
     "execution_count": 134,
     "metadata": {},
     "output_type": "execute_result"
    }
   ],
   "source": [
    "df_real_dtm.max().sort_values(ascending=False).head(10)"
   ]
  },
  {
   "cell_type": "code",
   "execution_count": 206,
   "metadata": {},
   "outputs": [
    {
     "data": {
      "text/plain": [
       "15943"
      ]
     },
     "execution_count": 206,
     "metadata": {},
     "output_type": "execute_result"
    }
   ],
   "source": [
    "df_real[\"text\"].str.contains('said').value_counts()[True]"
   ]
  },
  {
   "cell_type": "markdown",
   "metadata": {},
   "source": [
    "The most common words of **REAL** news are \"president\" (53), \"kim\" (51), \"would\" (48), \"tax\" (44), and \"trump\" (41)"
   ]
  },
  {
   "cell_type": "code",
   "execution_count": 136,
   "metadata": {
    "scrolled": true
   },
   "outputs": [
    {
     "data": {
      "text/plain": [
       "sentence      122\n",
       "county        119\n",
       "cocaine        98\n",
       "distribute     98\n",
       "intent         80\n",
       "target         78\n",
       "group          76\n",
       "president      74\n",
       "first          74\n",
       "source         72\n",
       "dtype: int64"
      ]
     },
     "execution_count": 136,
     "metadata": {},
     "output_type": "execute_result"
    }
   ],
   "source": [
    "df_fake_dtm.max().sort_values(ascending=False).head(10)"
   ]
  },
  {
   "cell_type": "code",
   "execution_count": 204,
   "metadata": {},
   "outputs": [
    {
     "data": {
      "text/plain": [
       "9527"
      ]
     },
     "execution_count": 204,
     "metadata": {},
     "output_type": "execute_result"
    }
   ],
   "source": [
    "df_fake[\"text\"].str.contains('said').value_counts()[True]"
   ]
  },
  {
   "cell_type": "code",
   "execution_count": 205,
   "metadata": {
    "scrolled": true
   },
   "outputs": [
    {
     "data": {
      "text/plain": [
       "15943"
      ]
     },
     "execution_count": 205,
     "metadata": {},
     "output_type": "execute_result"
    }
   ],
   "source": [
    "df_real[\"text\"].str.contains('said').value_counts()[True]"
   ]
  },
  {
   "cell_type": "code",
   "execution_count": 208,
   "metadata": {},
   "outputs": [
    {
     "data": {
      "text/plain": [
       "15817"
      ]
     },
     "execution_count": 208,
     "metadata": {},
     "output_type": "execute_result"
    }
   ],
   "source": [
    "df_fake[\"text\"].count()"
   ]
  },
  {
   "cell_type": "code",
   "execution_count": 210,
   "metadata": {
    "scrolled": true
   },
   "outputs": [
    {
     "data": {
      "text/plain": [
       "16622"
      ]
     },
     "execution_count": 210,
     "metadata": {},
     "output_type": "execute_result"
    }
   ],
   "source": [
    "df_real[\"text\"].count()"
   ]
  },
  {
   "cell_type": "code",
   "execution_count": 211,
   "metadata": {
    "scrolled": true
   },
   "outputs": [
    {
     "data": {
      "text/plain": [
       "0.6023266106088386"
      ]
     },
     "execution_count": 211,
     "metadata": {},
     "output_type": "execute_result"
    }
   ],
   "source": [
    "9527 / 15817"
   ]
  },
  {
   "cell_type": "code",
   "execution_count": 213,
   "metadata": {},
   "outputs": [
    {
     "data": {
      "text/plain": [
       "0.9591505234027193"
      ]
     },
     "execution_count": 213,
     "metadata": {},
     "output_type": "execute_result"
    }
   ],
   "source": [
    "15943 / 16622"
   ]
  },
  {
   "cell_type": "markdown",
   "metadata": {},
   "source": [
    "The most common words of **FAKE** news are \"sentence\" (122), \"county\" (119), \"cocaine\" (98), \"distribute\" (98), and \"intent\" (80)"
   ]
  },
  {
   "cell_type": "markdown",
   "metadata": {},
   "source": [
    "real news use the word \"said\" more often! In fake news it is in 60% of the news articles, while in 96% of the real ones."
   ]
  },
  {
   "cell_type": "code",
   "execution_count": 334,
   "metadata": {
    "scrolled": true
   },
   "outputs": [
    {
     "data": {
      "text/plain": [
       "'special counsel investigation links russia president election campaign continue without interference despite trump administration allies republican shut prominent republican senator said sunday lindsey graham senate armed judiciary said department justice special counsel robert needs carry russia investigation without political interference investigation go forward investigation without political influence graham said face nation news program need let mr job think right guy right time question russia may election campaign may links effort white house since trump took office january sign trump second year power despite rhetoric trump allies recent team bias republican president trump undercut interview last week new york times said going fair role election question possible links trump campaign focus multiple washington three senate house investigating well whose team may took probe us federal bureau investigation several trump campaign administration investigation trump allies deny collusion russia campaign kremlin meddling election graham said still examination use dossier links trump russia former british spy christopher trump allies question inquiry saturday new york times dossier triggered early probe tip former trump campaign foreign policy adviser george australian diplomat russia information former trump rival hillary clinton want somebody look way department justice used dossier greatly way used want somebody look graham said said russia investigation must continue matter fact would hurt us said'"
      ]
     },
     "execution_count": 334,
     "metadata": {},
     "output_type": "execute_result"
    }
   ],
   "source": [
    "df.iloc[2,1]"
   ]
  },
  {
   "cell_type": "code",
   "execution_count": 170,
   "metadata": {},
   "outputs": [],
   "source": [
    "def unite_text(text):\n",
    "    words = []\n",
    "    for i in text:\n",
    "        for j in i.split():\n",
    "            words.append(j.strip())\n",
    "    return words\n",
    "corpus = unite_text(df.text)\n",
    "corpus_real = unite_text(df_real.text)\n",
    "corpus_fake = unite_text(df_fake.text)"
   ]
  },
  {
   "cell_type": "markdown",
   "metadata": {},
   "source": [
    "Real news have 340774 more words than fake, thus will analyza only fake"
   ]
  },
  {
   "cell_type": "code",
   "execution_count": 153,
   "metadata": {},
   "outputs": [],
   "source": [
    "def get_ngrams(corpus, n, g):\n",
    "    v = CountVectorizer(ngram_range=(g, g)).fit(corpus)\n",
    "    bag_of_words = v.transform(corpus)\n",
    "    sum_words = bag_of_words.sum(axis=0) \n",
    "    words_freq = [(word, sum_words[0, idx]) for word, idx in v.vocabulary_.items()]\n",
    "    words_freq = sorted(words_freq, key = lambda x: x[1], reverse=True)\n",
    "    return words_freq[:n]"
   ]
  },
  {
   "cell_type": "code",
   "execution_count": 159,
   "metadata": {},
   "outputs": [],
   "source": [
    "most_common_words = get_ngrams(df.text, 5, 1)"
   ]
  },
  {
   "cell_type": "code",
   "execution_count": 161,
   "metadata": {
    "scrolled": true
   },
   "outputs": [
    {
     "data": {
      "text/plain": [
       "<matplotlib.axes._subplots.AxesSubplot at 0x128634430>"
      ]
     },
     "execution_count": 161,
     "metadata": {},
     "output_type": "execute_result"
    },
    {
     "data": {
      "image/png": "[encoded data removed]",
      "text/plain": [
       "<Figure size 432x288 with 1 Axes>"
      ]
     },
     "metadata": {
      "needs_background": "light"
     },
     "output_type": "display_data"
    }
   ],
   "source": [
    "most_common_words = dict(most_common_words)\n",
    "sns.barplot(x=list(most_common_words.values()),y=list(most_common_words.keys()))"
   ]
  },
  {
   "cell_type": "markdown",
   "metadata": {},
   "source": [
    "### Fake"
   ]
  },
  {
   "cell_type": "code",
   "execution_count": 197,
   "metadata": {},
   "outputs": [],
   "source": [
    "most_common_fake_words = get_ngrams(df_fake.text, 5, 1)"
   ]
  },
  {
   "cell_type": "code",
   "execution_count": 203,
   "metadata": {},
   "outputs": [
    {
     "data": {
      "text/plain": [
       "<matplotlib.axes._subplots.AxesSubplot at 0x12636ac40>"
      ]
     },
     "execution_count": 203,
     "metadata": {},
     "output_type": "execute_result"
    },
    {
     "data": {
      "image/png": "[encoded data removed]",
      "text/plain": [
       "<Figure size 432x288 with 1 Axes>"
      ]
     },
     "metadata": {
      "needs_background": "light"
     },
     "output_type": "display_data"
    }
   ],
   "source": [
    "most_common_fake_words = dict(most_common_fake_words)\n",
    "sns.barplot(x=list(most_common_fake_words.values()),y=list(most_common_fake_words.keys()))"
   ]
  },
  {
   "cell_type": "markdown",
   "metadata": {},
   "source": [
    "### 2.4 Most frequent double words (bi-grams)"
   ]
  },
  {
   "cell_type": "code",
   "execution_count": 164,
   "metadata": {},
   "outputs": [],
   "source": [
    "most_common_double = get_ngrams(df.text, 5, 2)"
   ]
  },
  {
   "cell_type": "code",
   "execution_count": 165,
   "metadata": {},
   "outputs": [
    {
     "data": {
      "text/plain": [
       "<matplotlib.axes._subplots.AxesSubplot at 0x126e22370>"
      ]
     },
     "execution_count": 165,
     "metadata": {},
     "output_type": "execute_result"
    },
    {
     "data": {
      "image/png": "[encoded data removed]",
      "text/plain": [
       "<Figure size 432x288 with 1 Axes>"
      ]
     },
     "metadata": {
      "needs_background": "light"
     },
     "output_type": "display_data"
    }
   ],
   "source": [
    "most_common_double = dict(most_common_double)\n",
    "sns.barplot(x=list(most_common_double.values()),y=list(most_common_double.keys()))"
   ]
  },
  {
   "cell_type": "markdown",
   "metadata": {},
   "source": [
    "### 2.5 Most frequent triple words (tri-grams) "
   ]
  },
  {
   "cell_type": "code",
   "execution_count": 168,
   "metadata": {},
   "outputs": [],
   "source": [
    "most_common_triple = get_ngrams(df.text, 5, 3)"
   ]
  },
  {
   "cell_type": "code",
   "execution_count": 169,
   "metadata": {},
   "outputs": [
    {
     "data": {
      "text/plain": [
       "<matplotlib.axes._subplots.AxesSubplot at 0x126defd30>"
      ]
     },
     "execution_count": 169,
     "metadata": {},
     "output_type": "execute_result"
    },
    {
     "data": {
      "image/png": "[encoded data removed]",
      "text/plain": [
       "<Figure size 432x288 with 1 Axes>"
      ]
     },
     "metadata": {
      "needs_background": "light"
     },
     "output_type": "display_data"
    }
   ],
   "source": [
    "most_common_triple = dict(most_common_triple)\n",
    "sns.barplot(x=list(most_common_triple.values()),y=list(most_common_triple.keys()))"
   ]
  },
  {
   "cell_type": "markdown",
   "metadata": {},
   "source": [
    "### 2.6 Statement Analysis with TextBlob (Santiment & Subjectivity)"
   ]
  },
  {
   "cell_type": "code",
   "execution_count": 218,
   "metadata": {},
   "outputs": [
    {
     "data": {
      "text/html": [
       "<div>\n",
       "<style scoped>\n",
       "    .dataframe tbody tr th:only-of-type {\n",
       "        vertical-align: middle;\n",
       "    }\n",
       "\n",
       "    .dataframe tbody tr th {\n",
       "        vertical-align: top;\n",
       "    }\n",
       "\n",
       "    .dataframe thead th {\n",
       "        text-align: right;\n",
       "    }\n",
       "</style>\n",
       "<table border=\"1\" class=\"dataframe\">\n",
       "  <thead>\n",
       "    <tr style=\"text-align: right;\">\n",
       "      <th></th>\n",
       "      <th>title</th>\n",
       "      <th>text</th>\n",
       "      <th>subject</th>\n",
       "      <th>date</th>\n",
       "      <th>status</th>\n",
       "      <th>length_of_text</th>\n",
       "    </tr>\n",
       "  </thead>\n",
       "  <tbody>\n",
       "    <tr>\n",
       "      <th>16622</th>\n",
       "      <td>donald trump sends out embarrassing new year’...</td>\n",
       "      <td>donald trump wish happy new year leave instead...</td>\n",
       "      <td>News</td>\n",
       "      <td>2017-12-31</td>\n",
       "      <td>0</td>\n",
       "      <td>190</td>\n",
       "    </tr>\n",
       "    <tr>\n",
       "      <th>16623</th>\n",
       "      <td>drunk bragging trump staffer started russian ...</td>\n",
       "      <td>house intelligence committee chairman going ba...</td>\n",
       "      <td>News</td>\n",
       "      <td>2017-12-31</td>\n",
       "      <td>0</td>\n",
       "      <td>128</td>\n",
       "    </tr>\n",
       "    <tr>\n",
       "      <th>16624</th>\n",
       "      <td>sheriff david clarke becomes an internet joke...</td>\n",
       "      <td>friday revealed former sheriff david considere...</td>\n",
       "      <td>News</td>\n",
       "      <td>2017-12-30</td>\n",
       "      <td>0</td>\n",
       "      <td>220</td>\n",
       "    </tr>\n",
       "    <tr>\n",
       "      <th>16625</th>\n",
       "      <td>trump is so obsessed he even has obama’s name...</td>\n",
       "      <td>christmas day donald trump would back work fol...</td>\n",
       "      <td>News</td>\n",
       "      <td>2017-12-29</td>\n",
       "      <td>0</td>\n",
       "      <td>164</td>\n",
       "    </tr>\n",
       "    <tr>\n",
       "      <th>16626</th>\n",
       "      <td>pope francis just called out donald trump dur...</td>\n",
       "      <td>pope francis used annual christmas day message...</td>\n",
       "      <td>News</td>\n",
       "      <td>2017-12-25</td>\n",
       "      <td>0</td>\n",
       "      <td>171</td>\n",
       "    </tr>\n",
       "    <tr>\n",
       "      <th>...</th>\n",
       "      <td>...</td>\n",
       "      <td>...</td>\n",
       "      <td>...</td>\n",
       "      <td>...</td>\n",
       "      <td>...</td>\n",
       "      <td>...</td>\n",
       "    </tr>\n",
       "    <tr>\n",
       "      <th>32434</th>\n",
       "      <td>the white house and the theatrics of ‘gun cont...</td>\n",
       "      <td>century wire world stage men merely one man ti...</td>\n",
       "      <td>US_News</td>\n",
       "      <td>2016-01-07</td>\n",
       "      <td>0</td>\n",
       "      <td>525</td>\n",
       "    </tr>\n",
       "    <tr>\n",
       "      <th>32435</th>\n",
       "      <td>activists or terrorists? how media controls an...</td>\n",
       "      <td>randy century majority media surrounding wildl...</td>\n",
       "      <td>US_News</td>\n",
       "      <td>2016-01-07</td>\n",
       "      <td>0</td>\n",
       "      <td>1757</td>\n",
       "    </tr>\n",
       "    <tr>\n",
       "      <th>32436</th>\n",
       "      <td>boiler room – no surrender, no retreat, heads ...</td>\n",
       "      <td>tune alternate current radio network another l...</td>\n",
       "      <td>US_News</td>\n",
       "      <td>2016-01-06</td>\n",
       "      <td>0</td>\n",
       "      <td>86</td>\n",
       "    </tr>\n",
       "    <tr>\n",
       "      <th>32437</th>\n",
       "      <td>federal showdown looms in oregon after blm abu...</td>\n",
       "      <td>century wire new front long battle america sma...</td>\n",
       "      <td>US_News</td>\n",
       "      <td>2016-01-04</td>\n",
       "      <td>0</td>\n",
       "      <td>1339</td>\n",
       "    </tr>\n",
       "    <tr>\n",
       "      <th>32438</th>\n",
       "      <td>a troubled king: chicago’s rahm emanuel desper...</td>\n",
       "      <td>century wire far away guess run president new ...</td>\n",
       "      <td>US_News</td>\n",
       "      <td>2016-01-02</td>\n",
       "      <td>0</td>\n",
       "      <td>420</td>\n",
       "    </tr>\n",
       "  </tbody>\n",
       "</table>\n",
       "<p>15817 rows × 6 columns</p>\n",
       "</div>"
      ],
      "text/plain": [
       "                                                   title  \\\n",
       "16622   donald trump sends out embarrassing new year’...   \n",
       "16623   drunk bragging trump staffer started russian ...   \n",
       "16624   sheriff david clarke becomes an internet joke...   \n",
       "16625   trump is so obsessed he even has obama’s name...   \n",
       "16626   pope francis just called out donald trump dur...   \n",
       "...                                                  ...   \n",
       "32434  the white house and the theatrics of ‘gun cont...   \n",
       "32435  activists or terrorists? how media controls an...   \n",
       "32436  boiler room – no surrender, no retreat, heads ...   \n",
       "32437  federal showdown looms in oregon after blm abu...   \n",
       "32438  a troubled king: chicago’s rahm emanuel desper...   \n",
       "\n",
       "                                                    text  subject       date  \\\n",
       "16622  donald trump wish happy new year leave instead...     News 2017-12-31   \n",
       "16623  house intelligence committee chairman going ba...     News 2017-12-31   \n",
       "16624  friday revealed former sheriff david considere...     News 2017-12-30   \n",
       "16625  christmas day donald trump would back work fol...     News 2017-12-29   \n",
       "16626  pope francis used annual christmas day message...     News 2017-12-25   \n",
       "...                                                  ...      ...        ...   \n",
       "32434  century wire world stage men merely one man ti...  US_News 2016-01-07   \n",
       "32435  randy century majority media surrounding wildl...  US_News 2016-01-07   \n",
       "32436  tune alternate current radio network another l...  US_News 2016-01-06   \n",
       "32437  century wire new front long battle america sma...  US_News 2016-01-04   \n",
       "32438  century wire far away guess run president new ...  US_News 2016-01-02   \n",
       "\n",
       "       status  length_of_text  \n",
       "16622       0             190  \n",
       "16623       0             128  \n",
       "16624       0             220  \n",
       "16625       0             164  \n",
       "16626       0             171  \n",
       "...       ...             ...  \n",
       "32434       0             525  \n",
       "32435       0            1757  \n",
       "32436       0              86  \n",
       "32437       0            1339  \n",
       "32438       0             420  \n",
       "\n",
       "[15817 rows x 6 columns]"
      ]
     },
     "execution_count": 218,
     "metadata": {},
     "output_type": "execute_result"
    }
   ],
   "source": [
    "df_fake"
   ]
  },
  {
   "cell_type": "code",
   "execution_count": 220,
   "metadata": {
    "scrolled": true
   },
   "outputs": [],
   "source": [
    "from textblob import TextBlob\n",
    "pol = lambda x: TextBlob(x).sentiment.polarity\n",
    "sub = lambda x: TextBlob(x).sentiment.subjectivity"
   ]
  },
  {
   "cell_type": "code",
   "execution_count": 221,
   "metadata": {},
   "outputs": [
    {
     "name": "stderr",
     "output_type": "stream",
     "text": [
      "<ipython-input-221-bd28c2886a48>:1: SettingWithCopyWarning: \n",
      "A value is trying to be set on a copy of a slice from a DataFrame.\n",
      "Try using .loc[row_indexer,col_indexer] = value instead\n",
      "\n",
      "See the caveats in the documentation: https://pandas.pydata.org/pandas-docs/stable/user_guide/indexing.html#returning-a-view-versus-a-copy\n",
      "  df_fake['polarity'] = df_fake['text'].apply(pol)\n",
      "<ipython-input-221-bd28c2886a48>:2: SettingWithCopyWarning: \n",
      "A value is trying to be set on a copy of a slice from a DataFrame.\n",
      "Try using .loc[row_indexer,col_indexer] = value instead\n",
      "\n",
      "See the caveats in the documentation: https://pandas.pydata.org/pandas-docs/stable/user_guide/indexing.html#returning-a-view-versus-a-copy\n",
      "  df_fake['subjectivity'] = df_fake['text'].apply(sub)\n"
     ]
    }
   ],
   "source": [
    "df_fake['polarity'] = df_fake['text'].apply(pol)\n",
    "df_fake['subjectivity'] = df_fake['text'].apply(sub)"
   ]
  },
  {
   "cell_type": "code",
   "execution_count": 222,
   "metadata": {},
   "outputs": [
    {
     "name": "stderr",
     "output_type": "stream",
     "text": [
      "<ipython-input-222-f2180c581a56>:1: SettingWithCopyWarning: \n",
      "A value is trying to be set on a copy of a slice from a DataFrame.\n",
      "Try using .loc[row_indexer,col_indexer] = value instead\n",
      "\n",
      "See the caveats in the documentation: https://pandas.pydata.org/pandas-docs/stable/user_guide/indexing.html#returning-a-view-versus-a-copy\n",
      "  df_real['polarity'] = df_real['text'].apply(pol)\n",
      "<ipython-input-222-f2180c581a56>:2: SettingWithCopyWarning: \n",
      "A value is trying to be set on a copy of a slice from a DataFrame.\n",
      "Try using .loc[row_indexer,col_indexer] = value instead\n",
      "\n",
      "See the caveats in the documentation: https://pandas.pydata.org/pandas-docs/stable/user_guide/indexing.html#returning-a-view-versus-a-copy\n",
      "  df_real['subjectivity'] = df_real['text'].apply(sub)\n"
     ]
    }
   ],
   "source": [
    "df_real['polarity'] = df_real['text'].apply(pol)\n",
    "df_real['subjectivity'] = df_real['text'].apply(sub)"
   ]
  },
  {
   "cell_type": "code",
   "execution_count": 352,
   "metadata": {},
   "outputs": [
    {
     "data": {
      "text/plain": [
       "0.0509558574958813"
      ]
     },
     "execution_count": 352,
     "metadata": {},
     "output_type": "execute_result"
    }
   ],
   "source": [
    "df_real['polarity'].mean()"
   ]
  },
  {
   "cell_type": "code",
   "execution_count": 353,
   "metadata": {
    "scrolled": true
   },
   "outputs": [
    {
     "data": {
      "text/plain": [
       "0.049323905697279555"
      ]
     },
     "execution_count": 353,
     "metadata": {},
     "output_type": "execute_result"
    }
   ],
   "source": [
    "df_fake['polarity'].mean()"
   ]
  },
  {
   "cell_type": "markdown",
   "metadata": {},
   "source": [
    "There is quite a big similarity in the average polarity of fake and real news. No significant difference."
   ]
  },
  {
   "cell_type": "code",
   "execution_count": 354,
   "metadata": {},
   "outputs": [
    {
     "data": {
      "text/plain": [
       "0.3561389677929123"
      ]
     },
     "execution_count": 354,
     "metadata": {},
     "output_type": "execute_result"
    }
   ],
   "source": [
    "df_real['subjectivity'].mean()"
   ]
  },
  {
   "cell_type": "code",
   "execution_count": 355,
   "metadata": {
    "scrolled": true
   },
   "outputs": [
    {
     "data": {
      "text/plain": [
       "0.44410833001325944"
      ]
     },
     "execution_count": 355,
     "metadata": {},
     "output_type": "execute_result"
    }
   ],
   "source": [
    "df_fake['subjectivity'].mean()"
   ]
  },
  {
   "cell_type": "code",
   "execution_count": 335,
   "metadata": {
    "scrolled": true
   },
   "outputs": [
    {
     "data": {
      "text/plain": [
       "0.08796936222034712"
      ]
     },
     "execution_count": 335,
     "metadata": {},
     "output_type": "execute_result"
    }
   ],
   "source": [
    "0.44410833001325944 - 0.3561389677929123"
   ]
  },
  {
   "cell_type": "markdown",
   "metadata": {},
   "source": [
    "As expected, real news are closer to 0 and thus classified as more objective (fact-based) than fake news. However, this difference is not big"
   ]
  },
  {
   "cell_type": "markdown",
   "metadata": {},
   "source": [
    "**Next steps:**\n",
    "\n",
    "    2.1 Machine Learning to predict fake vs real news\n",
    "    \n",
    "    2.2 Improve ML accuracy based on method selection\n",
    "    \n",
    "    2.3 Improve ML accuracy based on database cleaning\n",
    "    \n",
    "    2.4 Improve ML accuracy based on feature creation\n",
    "    \n",
    "    2.5 Improve ML accuracy based on feature selection\n",
    "    \n",
    "    2.6 Simple visualization of accuracy and results\n",
    "    \n",
    "    2.7 Tableau visualizations"
   ]
  },
  {
   "cell_type": "code",
   "execution_count": 248,
   "metadata": {},
   "outputs": [],
   "source": [
    "df_clean = pd.read_pickle(\"df_clean.pkl\")"
   ]
  },
  {
   "cell_type": "code",
   "execution_count": 249,
   "metadata": {},
   "outputs": [
    {
     "data": {
      "text/html": [
       "<div>\n",
       "<style scoped>\n",
       "    .dataframe tbody tr th:only-of-type {\n",
       "        vertical-align: middle;\n",
       "    }\n",
       "\n",
       "    .dataframe tbody tr th {\n",
       "        vertical-align: top;\n",
       "    }\n",
       "\n",
       "    .dataframe thead th {\n",
       "        text-align: right;\n",
       "    }\n",
       "</style>\n",
       "<table border=\"1\" class=\"dataframe\">\n",
       "  <thead>\n",
       "    <tr style=\"text-align: right;\">\n",
       "      <th></th>\n",
       "      <th>title</th>\n",
       "      <th>text</th>\n",
       "      <th>subject</th>\n",
       "      <th>date</th>\n",
       "      <th>status</th>\n",
       "    </tr>\n",
       "  </thead>\n",
       "  <tbody>\n",
       "    <tr>\n",
       "      <th>0</th>\n",
       "      <td>as u.s. budget fight looms, republicans flip t...</td>\n",
       "      <td>head conserv republican faction us congress mo...</td>\n",
       "      <td>politicsNews</td>\n",
       "      <td>2017-12-31</td>\n",
       "      <td>1</td>\n",
       "    </tr>\n",
       "    <tr>\n",
       "      <th>1</th>\n",
       "      <td>u.s. military to accept transgender recruits o...</td>\n",
       "      <td>peopl first time enlist us militari start mond...</td>\n",
       "      <td>politicsNews</td>\n",
       "      <td>2017-12-29</td>\n",
       "      <td>1</td>\n",
       "    </tr>\n",
       "    <tr>\n",
       "      <th>2</th>\n",
       "      <td>senior u.s. republican senator: 'let mr. muell...</td>\n",
       "      <td>special counsel investig link russia presid el...</td>\n",
       "      <td>politicsNews</td>\n",
       "      <td>2017-12-31</td>\n",
       "      <td>1</td>\n",
       "    </tr>\n",
       "    <tr>\n",
       "      <th>3</th>\n",
       "      <td>fbi russia probe helped by australian diplomat...</td>\n",
       "      <td>trump campaign advis georg told australian dip...</td>\n",
       "      <td>politicsNews</td>\n",
       "      <td>2017-12-30</td>\n",
       "      <td>1</td>\n",
       "    </tr>\n",
       "    <tr>\n",
       "      <th>4</th>\n",
       "      <td>trump wants postal service to charge 'much mor...</td>\n",
       "      <td>presid donald trump us postal servic friday ch...</td>\n",
       "      <td>politicsNews</td>\n",
       "      <td>2017-12-29</td>\n",
       "      <td>1</td>\n",
       "    </tr>\n",
       "    <tr>\n",
       "      <th>...</th>\n",
       "      <td>...</td>\n",
       "      <td>...</td>\n",
       "      <td>...</td>\n",
       "      <td>...</td>\n",
       "      <td>...</td>\n",
       "    </tr>\n",
       "    <tr>\n",
       "      <th>22698</th>\n",
       "      <td>the white house and the theatrics of ‘gun cont...</td>\n",
       "      <td>st centuri wire world stage men mere one man t...</td>\n",
       "      <td>US_News</td>\n",
       "      <td>2016-01-07</td>\n",
       "      <td>0</td>\n",
       "    </tr>\n",
       "    <tr>\n",
       "      <th>22699</th>\n",
       "      <td>activists or terrorists? how media controls an...</td>\n",
       "      <td>randi st centuri major media surround wildlif ...</td>\n",
       "      <td>US_News</td>\n",
       "      <td>2016-01-07</td>\n",
       "      <td>0</td>\n",
       "    </tr>\n",
       "    <tr>\n",
       "      <th>22700</th>\n",
       "      <td>boiler room – no surrender, no retreat, heads ...</td>\n",
       "      <td>tune altern current radio network anoth live b...</td>\n",
       "      <td>US_News</td>\n",
       "      <td>2016-01-06</td>\n",
       "      <td>0</td>\n",
       "    </tr>\n",
       "    <tr>\n",
       "      <th>22701</th>\n",
       "      <td>federal showdown looms in oregon after blm abu...</td>\n",
       "      <td>st centuri wire new front long battl america s...</td>\n",
       "      <td>US_News</td>\n",
       "      <td>2016-01-04</td>\n",
       "      <td>0</td>\n",
       "    </tr>\n",
       "    <tr>\n",
       "      <th>22702</th>\n",
       "      <td>a troubled king: chicago’s rahm emanuel desper...</td>\n",
       "      <td>st centuri wire far away guess run presid new ...</td>\n",
       "      <td>US_News</td>\n",
       "      <td>2016-01-02</td>\n",
       "      <td>0</td>\n",
       "    </tr>\n",
       "  </tbody>\n",
       "</table>\n",
       "<p>38263 rows × 5 columns</p>\n",
       "</div>"
      ],
      "text/plain": [
       "                                                   title  \\\n",
       "0      as u.s. budget fight looms, republicans flip t...   \n",
       "1      u.s. military to accept transgender recruits o...   \n",
       "2      senior u.s. republican senator: 'let mr. muell...   \n",
       "3      fbi russia probe helped by australian diplomat...   \n",
       "4      trump wants postal service to charge 'much mor...   \n",
       "...                                                  ...   \n",
       "22698  the white house and the theatrics of ‘gun cont...   \n",
       "22699  activists or terrorists? how media controls an...   \n",
       "22700  boiler room – no surrender, no retreat, heads ...   \n",
       "22701  federal showdown looms in oregon after blm abu...   \n",
       "22702  a troubled king: chicago’s rahm emanuel desper...   \n",
       "\n",
       "                                                    text       subject  \\\n",
       "0      head conserv republican faction us congress mo...  politicsNews   \n",
       "1      peopl first time enlist us militari start mond...  politicsNews   \n",
       "2      special counsel investig link russia presid el...  politicsNews   \n",
       "3      trump campaign advis georg told australian dip...  politicsNews   \n",
       "4      presid donald trump us postal servic friday ch...  politicsNews   \n",
       "...                                                  ...           ...   \n",
       "22698  st centuri wire world stage men mere one man t...       US_News   \n",
       "22699  randi st centuri major media surround wildlif ...       US_News   \n",
       "22700  tune altern current radio network anoth live b...       US_News   \n",
       "22701  st centuri wire new front long battl america s...       US_News   \n",
       "22702  st centuri wire far away guess run presid new ...       US_News   \n",
       "\n",
       "            date  status  \n",
       "0     2017-12-31       1  \n",
       "1     2017-12-29       1  \n",
       "2     2017-12-31       1  \n",
       "3     2017-12-30       1  \n",
       "4     2017-12-29       1  \n",
       "...          ...     ...  \n",
       "22698 2016-01-07       0  \n",
       "22699 2016-01-07       0  \n",
       "22700 2016-01-06       0  \n",
       "22701 2016-01-04       0  \n",
       "22702 2016-01-02       0  \n",
       "\n",
       "[38263 rows x 5 columns]"
      ]
     },
     "execution_count": 249,
     "metadata": {},
     "output_type": "execute_result"
    }
   ],
   "source": [
    "df_clean"
   ]
  },
  {
   "cell_type": "code",
   "execution_count": 250,
   "metadata": {},
   "outputs": [],
   "source": [
    "df_clean[\"length_of_text\"] = [len(text.split()) for text in df_clean[\"text\"]]"
   ]
  },
  {
   "cell_type": "code",
   "execution_count": 251,
   "metadata": {},
   "outputs": [],
   "source": [
    "df_clean = df_clean.loc[df_clean[\"length_of_text\"] > 50]"
   ]
  },
  {
   "cell_type": "code",
   "execution_count": 253,
   "metadata": {},
   "outputs": [],
   "source": [
    "df_clean = df_clean.reset_index(drop=True)"
   ]
  },
  {
   "cell_type": "code",
   "execution_count": 254,
   "metadata": {},
   "outputs": [],
   "source": [
    "df_ml = df[['text', 'status']]"
   ]
  },
  {
   "cell_type": "code",
   "execution_count": 256,
   "metadata": {},
   "outputs": [],
   "source": [
    "#df_ml.to_pickle(\"df_ml.pkl\")"
   ]
  },
  {
   "cell_type": "code",
   "execution_count": 259,
   "metadata": {},
   "outputs": [
    {
     "data": {
      "text/html": [
       "<div>\n",
       "<style scoped>\n",
       "    .dataframe tbody tr th:only-of-type {\n",
       "        vertical-align: middle;\n",
       "    }\n",
       "\n",
       "    .dataframe tbody tr th {\n",
       "        vertical-align: top;\n",
       "    }\n",
       "\n",
       "    .dataframe thead th {\n",
       "        text-align: right;\n",
       "    }\n",
       "</style>\n",
       "<table border=\"1\" class=\"dataframe\">\n",
       "  <thead>\n",
       "    <tr style=\"text-align: right;\">\n",
       "      <th></th>\n",
       "      <th>text</th>\n",
       "      <th>status</th>\n",
       "    </tr>\n",
       "  </thead>\n",
       "  <tbody>\n",
       "    <tr>\n",
       "      <th>0</th>\n",
       "      <td>head conservative republican faction us congre...</td>\n",
       "      <td>1</td>\n",
       "    </tr>\n",
       "    <tr>\n",
       "      <th>1</th>\n",
       "      <td>people first time enlist us military starting ...</td>\n",
       "      <td>1</td>\n",
       "    </tr>\n",
       "    <tr>\n",
       "      <th>2</th>\n",
       "      <td>special counsel investigation links russia pre...</td>\n",
       "      <td>1</td>\n",
       "    </tr>\n",
       "    <tr>\n",
       "      <th>3</th>\n",
       "      <td>trump campaign adviser george told australian ...</td>\n",
       "      <td>1</td>\n",
       "    </tr>\n",
       "    <tr>\n",
       "      <th>4</th>\n",
       "      <td>president donald trump us postal service frida...</td>\n",
       "      <td>1</td>\n",
       "    </tr>\n",
       "    <tr>\n",
       "      <th>...</th>\n",
       "      <td>...</td>\n",
       "      <td>...</td>\n",
       "    </tr>\n",
       "    <tr>\n",
       "      <th>32434</th>\n",
       "      <td>century wire world stage men merely one man ti...</td>\n",
       "      <td>0</td>\n",
       "    </tr>\n",
       "    <tr>\n",
       "      <th>32435</th>\n",
       "      <td>randy century majority media surrounding wildl...</td>\n",
       "      <td>0</td>\n",
       "    </tr>\n",
       "    <tr>\n",
       "      <th>32436</th>\n",
       "      <td>tune alternate current radio network another l...</td>\n",
       "      <td>0</td>\n",
       "    </tr>\n",
       "    <tr>\n",
       "      <th>32437</th>\n",
       "      <td>century wire new front long battle america sma...</td>\n",
       "      <td>0</td>\n",
       "    </tr>\n",
       "    <tr>\n",
       "      <th>32438</th>\n",
       "      <td>century wire far away guess run president new ...</td>\n",
       "      <td>0</td>\n",
       "    </tr>\n",
       "  </tbody>\n",
       "</table>\n",
       "<p>32439 rows × 2 columns</p>\n",
       "</div>"
      ],
      "text/plain": [
       "                                                    text  status\n",
       "0      head conservative republican faction us congre...       1\n",
       "1      people first time enlist us military starting ...       1\n",
       "2      special counsel investigation links russia pre...       1\n",
       "3      trump campaign adviser george told australian ...       1\n",
       "4      president donald trump us postal service frida...       1\n",
       "...                                                  ...     ...\n",
       "32434  century wire world stage men merely one man ti...       0\n",
       "32435  randy century majority media surrounding wildl...       0\n",
       "32436  tune alternate current radio network another l...       0\n",
       "32437  century wire new front long battle america sma...       0\n",
       "32438  century wire far away guess run president new ...       0\n",
       "\n",
       "[32439 rows x 2 columns]"
      ]
     },
     "execution_count": 259,
     "metadata": {},
     "output_type": "execute_result"
    }
   ],
   "source": [
    "df_ml"
   ]
  },
  {
   "cell_type": "code",
   "execution_count": 261,
   "metadata": {},
   "outputs": [
    {
     "data": {
      "text/plain": [
       "1    16622\n",
       "0    15817\n",
       "Name: status, dtype: int64"
      ]
     },
     "execution_count": 261,
     "metadata": {},
     "output_type": "execute_result"
    }
   ],
   "source": [
    "df_ml[\"status\"].value_counts()"
   ]
  },
  {
   "cell_type": "code",
   "execution_count": 265,
   "metadata": {},
   "outputs": [
    {
     "data": {
      "text/plain": [
       "0.48759209593390673"
      ]
     },
     "execution_count": 265,
     "metadata": {},
     "output_type": "execute_result"
    }
   ],
   "source": [
    "15817 / (16622 + 15817)"
   ]
  },
  {
   "cell_type": "markdown",
   "metadata": {},
   "source": [
    "48.7% vs 51.3% is pretty balanced."
   ]
  },
  {
   "cell_type": "code",
   "execution_count": 367,
   "metadata": {},
   "outputs": [],
   "source": [
    "from sklearn.model_selection import train_test_split, cross_val_score, cross_val_predict, GridSearchCV\n",
    "from sklearn.feature_extraction.text import TfidfVectorizer\n",
    "from sklearn.linear_model import SGDClassifier\n",
    "from sklearn.pipeline import Pipeline\n",
    "from sklearn.metrics import confusion_matrix, accuracy_score\n",
    "from nltk.tokenize import RegexpTokenizer\n",
    "from sklearn.linear_model import LogisticRegression"
   ]
  },
  {
   "cell_type": "code",
   "execution_count": 320,
   "metadata": {},
   "outputs": [
    {
     "name": "stdout",
     "output_type": "stream",
     "text": [
      "Train dimensions: ((22707,), (22707,))\n",
      "Test dimensions: ((9732,), (9732,))\n",
      "1    11639\n",
      "0    11068\n",
      "Name: status, dtype: int64\n",
      "1    4983\n",
      "0    4749\n",
      "Name: status, dtype: int64\n"
     ]
    }
   ],
   "source": [
    "X_train, X_test, y_train, y_test = train_test_split(df_ml['text'], df_ml['status'], test_size=0.3, random_state=42)\n",
    "print(f'Train dimensions: {X_train.shape, y_train.shape}')\n",
    "print(f'Test dimensions: {X_test.shape, y_test.shape}')\n",
    "# Check out target distribution\n",
    "print(y_train.value_counts())\n",
    "print(y_test.value_counts())"
   ]
  },
  {
   "cell_type": "code",
   "execution_count": 321,
   "metadata": {},
   "outputs": [],
   "source": [
    "def token_text(text):\n",
    "    tokeniser = RegexpTokenizer(r'\\w+')\n",
    "    tokens = tokeniser.tokenize(text)\n",
    "    return tokens"
   ]
  },
  {
   "cell_type": "code",
   "execution_count": 322,
   "metadata": {},
   "outputs": [
    {
     "data": {
      "text/plain": [
       "(22707, 27340)"
      ]
     },
     "execution_count": 322,
     "metadata": {},
     "output_type": "execute_result"
    }
   ],
   "source": [
    "# Create an instance of TfidfVectorizer\n",
    "vectoriser = TfidfVectorizer(analyzer=token_text)\n",
    "# Fit to the data and transform to feature matrix\n",
    "X_train_tfidf = vectoriser.fit_transform(X_train)\n",
    "X_train_tfidf.shape"
   ]
  },
  {
   "cell_type": "code",
   "execution_count": 340,
   "metadata": {},
   "outputs": [
    {
     "name": "stdout",
     "output_type": "stream",
     "text": [
      "[0.97798327 0.9764421  0.97951993 0.97555604 0.97687734]\n",
      "Accuracy: 0.98 (+/- 0.00)\n"
     ]
    }
   ],
   "source": [
    "sgd_clf = SGDClassifier(random_state=42)\n",
    "sgf_clf_scores = cross_val_score(sgd_clf, X_train_tfidf, y_train, cv=5)\n",
    "print(sgf_clf_scores)\n",
    "print(\"Accuracy: %0.2f (+/- %0.2f)\" % (sgf_clf_scores.mean(), sgf_clf_scores.std() * 2))"
   ]
  },
  {
   "cell_type": "code",
   "execution_count": 341,
   "metadata": {},
   "outputs": [
    {
     "data": {
      "text/plain": [
       "array([0.97798327, 0.9764421 , 0.97951993, 0.97555604, 0.97687734])"
      ]
     },
     "execution_count": 341,
     "metadata": {},
     "output_type": "execute_result"
    }
   ],
   "source": [
    "cross_val_score(sgd_clf, X_train_tfidf, y_train, cv=5, scoring='accuracy')"
   ]
  },
  {
   "cell_type": "code",
   "execution_count": 342,
   "metadata": {
    "scrolled": true
   },
   "outputs": [
    {
     "name": "stdout",
     "output_type": "stream",
     "text": [
      "[[10723   345]\n",
      " [  171 11468]]\n"
     ]
    }
   ],
   "source": [
    "sgf_clf_pred = cross_val_predict(sgd_clf, X_train_tfidf, y_train, cv=5)\n",
    "print(confusion_matrix(y_train, sgf_clf_pred))"
   ]
  },
  {
   "cell_type": "code",
   "execution_count": 343,
   "metadata": {
    "scrolled": true
   },
   "outputs": [
    {
     "name": "stderr",
     "output_type": "stream",
     "text": [
      "/Users/kosta/opt/miniconda3/envs/Boogie_Woogie/lib/python3.8/site-packages/sklearn/linear_model/_stochastic_gradient.py:570: ConvergenceWarning: Maximum number of iteration reached before convergence. Consider increasing max_iter to improve the fit.\n",
      "  warnings.warn(\"Maximum number of iteration reached before \"\n"
     ]
    },
    {
     "data": {
      "text/plain": [
       "{'early_stopping': True,\n",
       " 'fit_intercept': True,\n",
       " 'loss': 'hinge',\n",
       " 'penalty': 'l2'}"
      ]
     },
     "execution_count": 343,
     "metadata": {},
     "output_type": "execute_result"
    }
   ],
   "source": [
    "grid = {'fit_intercept': [True,False],\n",
    "        'early_stopping': [True, False],\n",
    "        'loss' : ['hinge', 'log', 'squared_hinge'],\n",
    "        'penalty' : ['l2', 'l1', 'none']}\n",
    "search = GridSearchCV(estimator=sgd_clf, param_grid=grid, cv=5)\n",
    "search.fit(X_train_tfidf, y_train)\n",
    "search.best_params_"
   ]
  },
  {
   "cell_type": "code",
   "execution_count": 344,
   "metadata": {},
   "outputs": [
    {
     "name": "stdout",
     "output_type": "stream",
     "text": [
      "[0.9784236  0.97490092 0.98084122 0.97687734 0.97621669]\n",
      "Accuracy: 0.98 (+/- 0.00)\n"
     ]
    }
   ],
   "source": [
    "grid_sgd_clf_scores = cross_val_score(search.best_estimator_, X_train_tfidf, y_train, cv=5)\n",
    "print(grid_sgd_clf_scores)\n",
    "print(\"Accuracy: %0.2f (+/- %0.2f)\" % (grid_sgd_clf_scores.mean(), grid_sgd_clf_scores.std() * 2))"
   ]
  },
  {
   "cell_type": "code",
   "execution_count": 345,
   "metadata": {},
   "outputs": [
    {
     "data": {
      "text/plain": [
       "Pipeline(steps=[('vectoriser',\n",
       "                 TfidfVectorizer(analyzer=<function token_text at 0x23727f820>)),\n",
       "                ('classifier',\n",
       "                 SGDClassifier(early_stopping=True, random_state=42))])"
      ]
     },
     "execution_count": 345,
     "metadata": {},
     "output_type": "execute_result"
    }
   ],
   "source": [
    "pipe = Pipeline([('vectoriser', vectoriser),\n",
    "                 ('classifier', search.best_estimator_)])\n",
    "pipe.fit(X_train, y_train)"
   ]
  },
  {
   "cell_type": "code",
   "execution_count": 346,
   "metadata": {
    "scrolled": true
   },
   "outputs": [
    {
     "name": "stdout",
     "output_type": "stream",
     "text": [
      "Accuracy: 0.98\n",
      "[[4591  158]\n",
      " [  65 4918]]\n"
     ]
    }
   ],
   "source": [
    "y_test_pred = pipe.predict(X_test)\n",
    "print(\"Accuracy: %0.2f\" % (accuracy_score(y_test, y_test_pred)))\n",
    "print(confusion_matrix(y_test, y_test_pred))"
   ]
  },
  {
   "cell_type": "code",
   "execution_count": 395,
   "metadata": {},
   "outputs": [
    {
     "data": {
      "text/html": [
       "<div>\n",
       "<style scoped>\n",
       "    .dataframe tbody tr th:only-of-type {\n",
       "        vertical-align: middle;\n",
       "    }\n",
       "\n",
       "    .dataframe tbody tr th {\n",
       "        vertical-align: top;\n",
       "    }\n",
       "\n",
       "    .dataframe thead th {\n",
       "        text-align: right;\n",
       "    }\n",
       "</style>\n",
       "<table border=\"1\" class=\"dataframe\">\n",
       "  <thead>\n",
       "    <tr style=\"text-align: right;\">\n",
       "      <th></th>\n",
       "      <th>text</th>\n",
       "      <th>status</th>\n",
       "    </tr>\n",
       "  </thead>\n",
       "  <tbody>\n",
       "    <tr>\n",
       "      <th>0</th>\n",
       "      <td>head conservative republican faction us congre...</td>\n",
       "      <td>1</td>\n",
       "    </tr>\n",
       "    <tr>\n",
       "      <th>1</th>\n",
       "      <td>people first time enlist us military starting ...</td>\n",
       "      <td>1</td>\n",
       "    </tr>\n",
       "    <tr>\n",
       "      <th>2</th>\n",
       "      <td>special counsel investigation links russia pre...</td>\n",
       "      <td>1</td>\n",
       "    </tr>\n",
       "    <tr>\n",
       "      <th>3</th>\n",
       "      <td>trump campaign adviser george told australian ...</td>\n",
       "      <td>1</td>\n",
       "    </tr>\n",
       "    <tr>\n",
       "      <th>4</th>\n",
       "      <td>president donald trump us postal service frida...</td>\n",
       "      <td>1</td>\n",
       "    </tr>\n",
       "    <tr>\n",
       "      <th>...</th>\n",
       "      <td>...</td>\n",
       "      <td>...</td>\n",
       "    </tr>\n",
       "    <tr>\n",
       "      <th>32434</th>\n",
       "      <td>century wire world stage men merely one man ti...</td>\n",
       "      <td>0</td>\n",
       "    </tr>\n",
       "    <tr>\n",
       "      <th>32435</th>\n",
       "      <td>randy century majority media surrounding wildl...</td>\n",
       "      <td>0</td>\n",
       "    </tr>\n",
       "    <tr>\n",
       "      <th>32436</th>\n",
       "      <td>tune alternate current radio network another l...</td>\n",
       "      <td>0</td>\n",
       "    </tr>\n",
       "    <tr>\n",
       "      <th>32437</th>\n",
       "      <td>century wire new front long battle america sma...</td>\n",
       "      <td>0</td>\n",
       "    </tr>\n",
       "    <tr>\n",
       "      <th>32438</th>\n",
       "      <td>century wire far away guess run president new ...</td>\n",
       "      <td>0</td>\n",
       "    </tr>\n",
       "  </tbody>\n",
       "</table>\n",
       "<p>32439 rows × 2 columns</p>\n",
       "</div>"
      ],
      "text/plain": [
       "                                                    text  status\n",
       "0      head conservative republican faction us congre...       1\n",
       "1      people first time enlist us military starting ...       1\n",
       "2      special counsel investigation links russia pre...       1\n",
       "3      trump campaign adviser george told australian ...       1\n",
       "4      president donald trump us postal service frida...       1\n",
       "...                                                  ...     ...\n",
       "32434  century wire world stage men merely one man ti...       0\n",
       "32435  randy century majority media surrounding wildl...       0\n",
       "32436  tune alternate current radio network another l...       0\n",
       "32437  century wire new front long battle america sma...       0\n",
       "32438  century wire far away guess run president new ...       0\n",
       "\n",
       "[32439 rows x 2 columns]"
      ]
     },
     "execution_count": 395,
     "metadata": {},
     "output_type": "execute_result"
    }
   ],
   "source": [
    "df_ml"
   ]
  },
  {
   "cell_type": "code",
   "execution_count": 396,
   "metadata": {},
   "outputs": [],
   "source": [
    "X_train, X_test, y_train, y_test = train_test_split(df_ml['text'], \n",
    "                                                    df_ml['status'], \n",
    "                                                    random_state=42)"
   ]
  },
  {
   "cell_type": "code",
   "execution_count": 397,
   "metadata": {},
   "outputs": [],
   "source": [
    "vect = CountVectorizer().fit(X_train)"
   ]
  },
  {
   "cell_type": "code",
   "execution_count": 398,
   "metadata": {},
   "outputs": [
    {
     "data": {
      "text/plain": [
       "<24329x27714 sparse matrix of type '<class 'numpy.int64'>'\n",
       "\twith 3250767 stored elements in Compressed Sparse Row format>"
      ]
     },
     "execution_count": 398,
     "metadata": {},
     "output_type": "execute_result"
    }
   ],
   "source": [
    "X_train_vectorized = vect.transform(X_train)\n",
    "X_train_vectorized"
   ]
  },
  {
   "cell_type": "code",
   "execution_count": 399,
   "metadata": {},
   "outputs": [
    {
     "name": "stderr",
     "output_type": "stream",
     "text": [
      "/Users/kosta/opt/miniconda3/envs/Boogie_Woogie/lib/python3.8/site-packages/sklearn/linear_model/_logistic.py:762: ConvergenceWarning: lbfgs failed to converge (status=1):\n",
      "STOP: TOTAL NO. of ITERATIONS REACHED LIMIT.\n",
      "\n",
      "Increase the number of iterations (max_iter) or scale the data as shown in:\n",
      "    https://scikit-learn.org/stable/modules/preprocessing.html\n",
      "Please also refer to the documentation for alternative solver options:\n",
      "    https://scikit-learn.org/stable/modules/linear_model.html#logistic-regression\n",
      "  n_iter_i = _check_optimize_result(\n"
     ]
    },
    {
     "data": {
      "text/plain": [
       "LogisticRegression()"
      ]
     },
     "execution_count": 399,
     "metadata": {},
     "output_type": "execute_result"
    }
   ],
   "source": [
    "model = LogisticRegression()\n",
    "model.fit(X_train_vectorized, y_train)"
   ]
  },
  {
   "cell_type": "code",
   "execution_count": 400,
   "metadata": {},
   "outputs": [
    {
     "name": "stdout",
     "output_type": "stream",
     "text": [
      "AUC:  0.9767673238067974\n"
     ]
    }
   ],
   "source": [
    "from sklearn.metrics import roc_auc_score\n",
    "\n",
    "predictions = model.predict(vect.transform(X_test))\n",
    "\n",
    "print('AUC: ', roc_auc_score(y_test, predictions))"
   ]
  },
  {
   "cell_type": "code",
   "execution_count": 401,
   "metadata": {},
   "outputs": [
    {
     "name": "stdout",
     "output_type": "stream",
     "text": [
      "[[3833  119]\n",
      " [  68 4090]]\n",
      "              precision    recall  f1-score   support\n",
      "\n",
      "           0       0.98      0.97      0.98      3952\n",
      "           1       0.97      0.98      0.98      4158\n",
      "\n",
      "    accuracy                           0.98      8110\n",
      "   macro avg       0.98      0.98      0.98      8110\n",
      "weighted avg       0.98      0.98      0.98      8110\n",
      "\n"
     ]
    }
   ],
   "source": [
    "from sklearn import metrics\n",
    "print(metrics.confusion_matrix(y_test, predictions, labels=[0, 1]))\n",
    "# Printing the precision and recall, among other metrics\n",
    "print(metrics.classification_report(y_test, predictions, labels=[0, 1]))"
   ]
  },
  {
   "cell_type": "code",
   "execution_count": 402,
   "metadata": {},
   "outputs": [],
   "source": [
    "cm = confusion_matrix(y_test, predictions , labels=[0, 1])"
   ]
  },
  {
   "cell_type": "code",
   "execution_count": 403,
   "metadata": {},
   "outputs": [
    {
     "data": {
      "text/plain": [
       "Text(0.5, 15.0, 'predictions')"
      ]
     },
     "execution_count": 403,
     "metadata": {},
     "output_type": "execute_result"
    },
    {
     "data": {
      "image/png": "[encoded data removed]",
      "text/plain": [
       "<Figure size 432x288 with 2 Axes>"
      ]
     },
     "metadata": {
      "needs_background": "light"
     },
     "output_type": "display_data"
    }
   ],
   "source": [
    "ax= plt.subplot()\n",
    "sns.heatmap(cm, annot=True, ax= ax)\n",
    "ax.set_ylabel('y_test')\n",
    "ax.set_xlabel('predictions')"
   ]
  },
  {
   "cell_type": "code",
   "execution_count": 407,
   "metadata": {},
   "outputs": [
    {
     "name": "stdout",
     "output_type": "stream",
     "text": [
      "Smallest Coefs:\n",
      "['via' 'rep' 'image' 'wire' 'sen' 'reportedly' 'read' 'entire' 'mr'\n",
      " 'daily' 'isis' 'revealed' 'actually' 'caller' 'examiner' 'radical'\n",
      " 'destroy' 'hill' 'hillary' 'story']\n",
      "\n",
      "Largest Coefs: \n",
      "['dont' 'thats' 'didnt' 'accuracy' 'rival' 'theres' 'comment' 'doesnt'\n",
      " 'wednesday' 'expressed' 'link' 'newspaper' 'tuesday' 'posted' 'said'\n",
      " 'sap' 'cant' 'overhaul' 'republican' 'nominate' 'wont' 'thursday'\n",
      " 'mainly' 'weve' 'friday' 'separate' 'region' 'abroad' 'whats' 'crackdown']\n"
     ]
    }
   ],
   "source": [
    "# get the feature names as numpy array\n",
    "feature_names = np.array(vect.get_feature_names())\n",
    "\n",
    "# Sort the coefficients from the model\n",
    "sorted_coef_index = model.coef_[0].argsort()\n",
    "\n",
    "# Find the 10 smallest and 10 largest coefficients\n",
    "# The 10 largest coefficients are being indexed using [:-11:-1] \n",
    "# so the list returned is in order of largest to smallest\n",
    "print('Smallest Coefs:\\n{}\\n'.format(feature_names[sorted_coef_index[:20]]))\n",
    "print('Largest Coefs: \\n{}'.format(feature_names[sorted_coef_index[:-31:-1]]))"
   ]
  },
  {
   "cell_type": "code",
   "execution_count": 405,
   "metadata": {},
   "outputs": [
    {
     "data": {
      "text/html": [
       "<div>\n",
       "<style scoped>\n",
       "    .dataframe tbody tr th:only-of-type {\n",
       "        vertical-align: middle;\n",
       "    }\n",
       "\n",
       "    .dataframe tbody tr th {\n",
       "        vertical-align: top;\n",
       "    }\n",
       "\n",
       "    .dataframe thead th {\n",
       "        text-align: right;\n",
       "    }\n",
       "</style>\n",
       "<table border=\"1\" class=\"dataframe\">\n",
       "  <thead>\n",
       "    <tr style=\"text-align: right;\">\n",
       "      <th></th>\n",
       "      <th>text</th>\n",
       "      <th>status</th>\n",
       "    </tr>\n",
       "  </thead>\n",
       "  <tbody>\n",
       "    <tr>\n",
       "      <th>0</th>\n",
       "      <td>head conservative republican faction us congre...</td>\n",
       "      <td>1</td>\n",
       "    </tr>\n",
       "    <tr>\n",
       "      <th>1</th>\n",
       "      <td>people first time enlist us military starting ...</td>\n",
       "      <td>1</td>\n",
       "    </tr>\n",
       "    <tr>\n",
       "      <th>2</th>\n",
       "      <td>special counsel investigation links russia pre...</td>\n",
       "      <td>1</td>\n",
       "    </tr>\n",
       "    <tr>\n",
       "      <th>3</th>\n",
       "      <td>trump campaign adviser george told australian ...</td>\n",
       "      <td>1</td>\n",
       "    </tr>\n",
       "    <tr>\n",
       "      <th>4</th>\n",
       "      <td>president donald trump us postal service frida...</td>\n",
       "      <td>1</td>\n",
       "    </tr>\n",
       "    <tr>\n",
       "      <th>...</th>\n",
       "      <td>...</td>\n",
       "      <td>...</td>\n",
       "    </tr>\n",
       "    <tr>\n",
       "      <th>32434</th>\n",
       "      <td>century wire world stage men merely one man ti...</td>\n",
       "      <td>0</td>\n",
       "    </tr>\n",
       "    <tr>\n",
       "      <th>32435</th>\n",
       "      <td>randy century majority media surrounding wildl...</td>\n",
       "      <td>0</td>\n",
       "    </tr>\n",
       "    <tr>\n",
       "      <th>32436</th>\n",
       "      <td>tune alternate current radio network another l...</td>\n",
       "      <td>0</td>\n",
       "    </tr>\n",
       "    <tr>\n",
       "      <th>32437</th>\n",
       "      <td>century wire new front long battle america sma...</td>\n",
       "      <td>0</td>\n",
       "    </tr>\n",
       "    <tr>\n",
       "      <th>32438</th>\n",
       "      <td>century wire far away guess run president new ...</td>\n",
       "      <td>0</td>\n",
       "    </tr>\n",
       "  </tbody>\n",
       "</table>\n",
       "<p>32439 rows × 2 columns</p>\n",
       "</div>"
      ],
      "text/plain": [
       "                                                    text  status\n",
       "0      head conservative republican faction us congre...       1\n",
       "1      people first time enlist us military starting ...       1\n",
       "2      special counsel investigation links russia pre...       1\n",
       "3      trump campaign adviser george told australian ...       1\n",
       "4      president donald trump us postal service frida...       1\n",
       "...                                                  ...     ...\n",
       "32434  century wire world stage men merely one man ti...       0\n",
       "32435  randy century majority media surrounding wildl...       0\n",
       "32436  tune alternate current radio network another l...       0\n",
       "32437  century wire new front long battle america sma...       0\n",
       "32438  century wire far away guess run president new ...       0\n",
       "\n",
       "[32439 rows x 2 columns]"
      ]
     },
     "execution_count": 405,
     "metadata": {},
     "output_type": "execute_result"
    }
   ],
   "source": [
    "df_ml"
   ]
  },
  {
   "cell_type": "code",
   "execution_count": null,
   "metadata": {},
   "outputs": [],
   "source": []
  }
 ],
 "metadata": {
  "kernelspec": {
   "display_name": "Python 3",
   "language": "python",
   "name": "python3"
  },
  "language_info": {
   "codemirror_mode": {
    "name": "ipython",
    "version": 3
   },
   "file_extension": ".py",
   "mimetype": "text/x-python",
   "name": "python",
   "nbconvert_exporter": "python",
   "pygments_lexer": "ipython3",
   "version": "3.8.3"
  }
 },
 "nbformat": 4,
 "nbformat_minor": 4
}
