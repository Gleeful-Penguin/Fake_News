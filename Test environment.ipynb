{
 "cells": [
  {
   "cell_type": "code",
   "execution_count": 52,
   "metadata": {
    "scrolled": true
   },
   "outputs": [
    {
     "name": "stderr",
     "output_type": "stream",
     "text": [
      "[nltk_data] Downloading package wordnet to /Users/kosta/nltk_data...\n",
      "[nltk_data]   Package wordnet is already up-to-date!\n",
      "[nltk_data] Downloading package words to /Users/kosta/nltk_data...\n",
      "[nltk_data]   Package words is already up-to-date!\n",
      "[nltk_data] Downloading package stopwords to /Users/kosta/nltk_data...\n",
      "[nltk_data]   Package stopwords is already up-to-date!\n"
     ]
    }
   ],
   "source": [
    "import pandas as pd\n",
    "import numpy as np\n",
    "import pickle\n",
    "import re\n",
    "import string\n",
    "from sklearn.feature_extraction.text import CountVectorizer\n",
    "import nltk\n",
    "nltk.download('wordnet')\n",
    "nltk.download('words')\n",
    "nltk.download('stopwords')\n",
    "from nltk.corpus import stopwords\n",
    "from nltk.stem.porter import PorterStemmer"
   ]
  },
  {
   "cell_type": "code",
   "execution_count": 53,
   "metadata": {},
   "outputs": [],
   "source": [
    "words = list(nltk.corpus.words.words())\n",
    "words = [word.lower() for word in words]\n",
    "stop_words = set(stopwords.words('english'))\n",
    "porter = PorterStemmer()"
   ]
  },
  {
   "cell_type": "code",
   "execution_count": 54,
   "metadata": {},
   "outputs": [],
   "source": [
    "test = 'kitchanga, democratic republic of congo (reuters) - u.s. ambassador to the united nations nikki haley was moved to tears\\xa0on thursday\\xa0after visiting a nearly decade-old camp for congolese displaced by violence in the country’s east, and insisted there has to be a way to hold “safe and fair elections.” haley, the most senior member of president donald trump’s administration to visit democratic republic of congo, traveled by helicopter to mungote camp in kitchanga, home to some 15,000 displaced people.  dozens of excited children waved as haley left on a u.n. peace-keeping helicopter to return to the provincial capital of goma. she was visibly upset.  “the reason i got emotional today was the hundred-plus kids that were chasing our cars and seeing us off,” haley told  reporters after the visit. “all i kept thinking was, what’s going to happen to them? the sad reality, as it looks now, is that they are going to end up just like their parents.” a single mother named angelique told haley she had been raped twice. “it’s hard for her when she sits in the kitchen with her seven children because they watched her getting raped,” haley said as she recounted what angelique told her. “she doesn’t know what to say to them,” haley said.  “no one should live like this. we can’t turn a blind eye to all of this,” haley said. \\xa0 congo is the final stop on haley’s week-long africa visit, which has also taken her to ethiopia and south sudan, where she met with president salva kiir. on friday\\xa0she is due to meet with congolese president joseph kabila, who has been in power since 2001 when he took over from his father.\\xa0 congo has never had a peaceful transition of power, and kabila refused to step down when his second elected term ended in december, fueling insecurity in a country where millions died in conflicts between 1996-2003, most from hunger and disease. under an accord struck on dec. 31 between kabila’s representatives and opposition leaders, kabila is barred from trying to change the constitution to stand for a third term. “we have to find a way to have a peaceful situation,” haley said. “we have to find a way for them to have safe and fair elections, so we that we can get some leaders that know how to handle this situation and get these armed groups to stop.”  the congolese electoral commission said earlier this month that an election to replace kabila cannot take place before april 2019, a delay that the opposition said would cause an impatient population to “take matters into its own hands.” the largest u.n. peace-keeping mission is deployed in congo, costing more than $1 billion annually. haley is reviewing all operations in a bid to cut costs, as the united states is the largest contributor, paying 28 percent of the budget. the 193-member u.n. general assembly agreed in june to a $7.3 billion peace-keeping budget, a cut of some $600 million. the congo operation has to cut $93 million. u.n. secretary-general antonio guterres has warned that any further budget cuts could harm the u.n. mission in congo. “the state is still absent from many parts of the country and all too often preys on the citizens it is meant to protect,” guterres wrote in a report to the 15-member security council last month peace-keepers kept watch while haley was at mungote camp in kitchanga, where she also visited a small bakery started by 50 women.   “they’re making a profit and they just bought a sheep with the profits that they made,” she said. “so it’s inspiring to see they’re not just sitting here complaining, they’re trying to make the best of the life that they have.” '"
   ]
  },
  {
   "cell_type": "code",
   "execution_count": 55,
   "metadata": {
    "scrolled": false
   },
   "outputs": [
    {
     "data": {
      "text/plain": [
       "'kitchanga, democratic republic of congo (reuters) - u.s. ambassador to the united nations nikki haley was moved to tears\\xa0on thursday\\xa0after visiting a nearly decade-old camp for congolese displaced by violence in the country’s east, and insisted there has to be a way to hold “safe and fair elections.” haley, the most senior member of president donald trump’s administration to visit democratic republic of congo, traveled by helicopter to mungote camp in kitchanga, home to some 15,000 displaced people.  dozens of excited children waved as haley left on a u.n. peace-keeping helicopter to return to the provincial capital of goma. she was visibly upset.  “the reason i got emotional today was the hundred-plus kids that were chasing our cars and seeing us off,” haley told  reporters after the visit. “all i kept thinking was, what’s going to happen to them? the sad reality, as it looks now, is that they are going to end up just like their parents.” a single mother named angelique told haley she had been raped twice. “it’s hard for her when she sits in the kitchen with her seven children because they watched her getting raped,” haley said as she recounted what angelique told her. “she doesn’t know what to say to them,” haley said.  “no one should live like this. we can’t turn a blind eye to all of this,” haley said. \\xa0 congo is the final stop on haley’s week-long africa visit, which has also taken her to ethiopia and south sudan, where she met with president salva kiir. on friday\\xa0she is due to meet with congolese president joseph kabila, who has been in power since 2001 when he took over from his father.\\xa0 congo has never had a peaceful transition of power, and kabila refused to step down when his second elected term ended in december, fueling insecurity in a country where millions died in conflicts between 1996-2003, most from hunger and disease. under an accord struck on dec. 31 between kabila’s representatives and opposition leaders, kabila is barred from trying to change the constitution to stand for a third term. “we have to find a way to have a peaceful situation,” haley said. “we have to find a way for them to have safe and fair elections, so we that we can get some leaders that know how to handle this situation and get these armed groups to stop.”  the congolese electoral commission said earlier this month that an election to replace kabila cannot take place before april 2019, a delay that the opposition said would cause an impatient population to “take matters into its own hands.” the largest u.n. peace-keeping mission is deployed in congo, costing more than $1 billion annually. haley is reviewing all operations in a bid to cut costs, as the united states is the largest contributor, paying 28 percent of the budget. the 193-member u.n. general assembly agreed in june to a $7.3 billion peace-keeping budget, a cut of some $600 million. the congo operation has to cut $93 million. u.n. secretary-general antonio guterres has warned that any further budget cuts could harm the u.n. mission in congo. “the state is still absent from many parts of the country and all too often preys on the citizens it is meant to protect,” guterres wrote in a report to the 15-member security council last month peace-keepers kept watch while haley was at mungote camp in kitchanga, where she also visited a small bakery started by 50 women.   “they’re making a profit and they just bought a sheep with the profits that they made,” she said. “so it’s inspiring to see they’re not just sitting here complaining, they’re trying to make the best of the life that they have.” '"
      ]
     },
     "execution_count": 55,
     "metadata": {},
     "output_type": "execute_result"
    }
   ],
   "source": [
    "test"
   ]
  },
  {
   "cell_type": "code",
   "execution_count": 56,
   "metadata": {},
   "outputs": [],
   "source": [
    "def clean_df(test):\n",
    "    # Stop words 1\n",
    "    test_list = test.split() # Convert to list\n",
    "    test_list = [w for w in test_list if not w in stop_words] # Remove stop words before symbols are removed\n",
    "    test = \" \".join(str(i) for i in test_list) # Convert to string\n",
    "    # General cleaning\n",
    "    test = test.lower() # Turns to lowercase\n",
    "    test = test.split('(reuters) - ')[-1] # Removes the \"seattle/washington (reuters) - \" in the begining\n",
    "    test = re.sub('-', ' ', test) # Replaces dashes with spaces\n",
    "    test = re.sub('/', ' ', test) # Replaces slashes with spaces\n",
    "    test = test.replace(u'\\xa0', u' ') # Removing \"\\xa0\" in the text\n",
    "    test = re.sub('\\n', '', test) # Removes '\\n' sighs\n",
    "    test = re.sub('[%s]' % re.escape(string.punctuation), '', test) # Removes punctuation\n",
    "    test = re.sub('[‘’“”…]', '', test) # Removes '[‘’“”…]' symbols\n",
    "    test = re.sub('\\w*\\d\\w*', '', test) # Removes numbers and words containing numbers\n",
    "    test = re.sub(\"theyre\" , \"\", test) # removes \"they are\" stop word\n",
    "    test = re.sub(\"\\s\\s+\" , \" \", test) # removes multiple spaces\n",
    "    test = test.rstrip(' ') # removes spaces at the end of a string\n",
    "    # Non-English words\n",
    "    test = \" \".join(w for w in nltk.wordpunct_tokenize(test) if w in words or not w.isalpha()) # Remove non-English words\n",
    "    # Stop words 2\n",
    "    test_list = test.split() # Convert to list\n",
    "    test_list = [w for w in test_list if not w in stop_words] # Remove stop words\n",
    "    test = \" \".join(str(i) for i in test_list) # Convert to string\n",
    "    \n",
    "    return test"
   ]
  },
  {
   "cell_type": "code",
   "execution_count": 57,
   "metadata": {},
   "outputs": [
    {
     "name": "stdout",
     "output_type": "stream",
     "text": [
      "0.5559558868408203\n"
     ]
    }
   ],
   "source": [
    "import time\n",
    "\n",
    "start = time.time()\n",
    "clean_df(test)\n",
    "end = time.time()\n",
    "print(end - start)"
   ]
  },
  {
   "cell_type": "code",
   "execution_count": 58,
   "metadata": {},
   "outputs": [
    {
     "data": {
      "text/plain": [
       "21272.540098190308"
      ]
     },
     "execution_count": 58,
     "metadata": {},
     "output_type": "execute_result"
    }
   ],
   "source": [
    "0.5559558868408203 * 38263"
   ]
  },
  {
   "cell_type": "code",
   "execution_count": 59,
   "metadata": {},
   "outputs": [
    {
     "data": {
      "text/plain": [
       "354.53333333333336"
      ]
     },
     "execution_count": 59,
     "metadata": {},
     "output_type": "execute_result"
    }
   ],
   "source": [
    "21272 / 60"
   ]
  },
  {
   "cell_type": "code",
   "execution_count": 60,
   "metadata": {},
   "outputs": [
    {
     "data": {
      "text/plain": [
       "5.9"
      ]
     },
     "execution_count": 60,
     "metadata": {},
     "output_type": "execute_result"
    }
   ],
   "source": [
    "354 / 60"
   ]
  },
  {
   "cell_type": "code",
   "execution_count": 19,
   "metadata": {},
   "outputs": [],
   "source": [
    "# Stop words 1\n",
    "test_list = test.split() # Convert to list\n",
    "test_list = [w for w in test_list if not w in stop_words] # Remove stop words before symbols are removed\n",
    "test = \" \".join(str(i) for i in test_list) # Convert to string\n",
    "# General cleaning\n",
    "test = test.lower() # Turns to lowercase\n",
    "test = test.split('(reuters) - ')[-1] # Removes the \"seattle/washington (reuters) - \" in the begining\n",
    "test = re.sub('-', ' ', test) # Replaces dashes with spaces\n",
    "test = re.sub('/', ' ', test) # Replaces slashes with spaces\n",
    "test = test.replace(u'\\xa0', u' ') # Removing \"\\xa0\" in the text\n",
    "test = re.sub('\\n', '', test) # Removes '\\n' sighs\n",
    "test = re.sub('[%s]' % re.escape(string.punctuation), '', test) # Removes punctuation\n",
    "test = re.sub('[‘’“”…]', '', test) # Removes '[‘’“”…]' symbols\n",
    "test = re.sub('\\w*\\d\\w*', '', test) # Removes numbers and words containing numbers\n",
    "test = re.sub(\"theyre\" , \"\", test) # removes \"they are\" stop word\n",
    "test = re.sub(\"\\s\\s+\" , \" \", test) # removes multiple spaces\n",
    "test = test.rstrip(' ') # removes spaces at the end of a string\n",
    "# Non-English words\n",
    "test = \" \".join(w for w in nltk.wordpunct_tokenize(test) if w in words or not w.isalpha()) # Remove non-English words\n",
    "# Stop words 2\n",
    "test_list = test.split() # Convert to list\n",
    "test_list = [w for w in test_list if not w in stop_words] # Remove stop words\n",
    "test = \" \".join(str(i) for i in test_list) # Convert to string\n",
    "# Stemming\n",
    "test_list = test.split() # Convert to list\n",
    "test_list = [porter.stem(word) for word in test_list] # Stemming the data\n",
    "test = \" \".join(str(i) for i in test_list) # Convert to string"
   ]
  },
  {
   "cell_type": "code",
   "execution_count": 20,
   "metadata": {
    "scrolled": false
   },
   "outputs": [
    {
     "data": {
      "text/plain": [
       "'us ambassador unit thursday visit decad old camp east way hold safe fair senior member donald visit democrat congo travel camp home wave left un keep return goma upset reason got today chase see us told visit kept think go happen sad go end like mother told twice hard kitchen seven watch get said told doesnt know say said one live like cant turn blind eye said congo final stop week long visit also taken ethiopia south sudan met salva friday due meet joseph power took father congo never transit power step second term end million hunger accord struck opposit bar tri chang stand third term find way said find way safe fair get know get arm stop elector said month elect cannot take place april delay opposit said would take un keep mission congo cost billion annual bid cut unit contributor pay percent budget member un agr june billion keep budget cut million congo cut million un antonio budget could harm un mission congo state still absent mani often meant protect wrote report member council last month kept watch camp also small make profit bought sheep made said see sit tri make best life'"
      ]
     },
     "execution_count": 20,
     "metadata": {},
     "output_type": "execute_result"
    }
   ],
   "source": [
    "test"
   ]
  }
 ],
 "metadata": {
  "kernelspec": {
   "display_name": "Python 3",
   "language": "python",
   "name": "python3"
  },
  "language_info": {
   "codemirror_mode": {
    "name": "ipython",
    "version": 3
   },
   "file_extension": ".py",
   "mimetype": "text/x-python",
   "name": "python",
   "nbconvert_exporter": "python",
   "pygments_lexer": "ipython3",
   "version": "3.8.3"
  }
 },
 "nbformat": 4,
 "nbformat_minor": 4
}
